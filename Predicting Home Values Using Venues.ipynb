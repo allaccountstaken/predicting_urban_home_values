{
 "cells": [
  {
   "cell_type": "code",
   "execution_count": 1029,
   "metadata": {},
   "outputs": [],
   "source": [
    "from geopy.geocoders import Nominatim\n",
    "from pandas.io.json import json_normalize\n",
    "from sklearn.model_selection import train_test_split\n",
    "from sklearn.ensemble import RandomForestRegressor, AdaBoostRegressor\n",
    "from sklearn.metrics import explained_variance_score, r2_score, mean_absolute_error\n",
    "from sklearn.tree import export_graphviz\n",
    "import pandas as pd\n",
    "import numpy as np\n",
    "import requests \n",
    "import config # gitignored config.py file with API keys\n",
    "import json \n",
    "import pydot\n",
    "import seaborn as sns\n",
    "import matplotlib.pyplot as plt\n",
    "import matplotlib\n",
    "\n",
    "matplotlib.style.use('ggplot')\n",
    "sns.set(rc={'figure.figsize':(20,8.27)})\n",
    "%matplotlib inline"
   ]
  },
  {
   "cell_type": "markdown",
   "metadata": {},
   "source": [
    "# Problem"
   ]
  },
  {
   "cell_type": "markdown",
   "metadata": {},
   "source": [
    "Real estate risk management needs to be focused on a problem of predicting the market value of properties as they are unique and difficult to actively manage, i.e. buy and sell. The value of real estate assets should be an integral function of some internal and external features. In short, internal features are endogenous to the property, for example design of windows or a number of rooms. External features are exogenous, for example surrounding shops or transportation hubs. The proposed study aims to model the market value of real estate assets using exogenous features while controlling for endogenous features. In other words, given a specific property type with standardized endogenous features, what nearby venues have the most effect on the value? The input to this model could be a relative frequency of certain types of venues mapped to a zip code. The output could be the zip code average price and monthly rent of a 2-bedroom residential unit. Numerous stakeholders, including investors, developers, local authorities and everyday citizens, will benefit from an improved forecast that takes into account the effect of local venues. This is especially import at the moment because markets are just beginning to digest the economic consequences of massive shutdowns due to pandemic related social distancing. Ideally, the study will produce a list of local businesses that tend to drive the value of nearby residential properties. Stabilizing these crucial businesses should help improve home values, and thus support mortgage collaterals and local tax revenues."
   ]
  },
  {
   "cell_type": "markdown",
   "metadata": {},
   "source": [
    "# Data Scources"
   ]
  },
  {
   "cell_type": "markdown",
   "metadata": {},
   "source": [
    "In order to effectively merge multiple data sets it is proposed to use zip code level granularity. This level allows for geospatial mapping and, if needed, aggregates up to neighborhoods and boroughs reasonably well. It is also important to focus on highly urbanized areas as such areas are expected to have more local businesses per zip code. Therefore, the ideal training data will have local businesses and average home values by zip code for the following five New York boroughs: Manhattan, Bronx, Brooklyn, Queens, and Staten. Most recent postal zip codes for New York city and geospatial mapping will be used as of end of May 2020, source: https://worldpostalcode.com/united-states/new-york/new-york-city. Zillow databases will be used to obtain monthly price and rent estimates for a 2-bedroom residential unit as of end of November 2019, source: https://www.zillow.com/research/data/. Foursquare APIs will be used to obtain information about local venues as of end of November 2019, source: https://api.foursquare.com/v2/venues/. The study can be reproduced for the following months to capture the effect of shutdowns. Benchmarking of the results can be performed against other alternative publicly available sources, such as https://www.realtor.com/estimates/ and https://www.neighborhoodscout.com."
   ]
  },
  {
   "cell_type": "markdown",
   "metadata": {},
   "source": [
    "# Define the urban area: ZIP, Price, Rent, Lat, and Lng \n",
    "### Pulling all zip codes for the urban area"
   ]
  },
  {
   "cell_type": "code",
   "execution_count": 1036,
   "metadata": {},
   "outputs": [
    {
     "data": {
      "text/html": [
       "<div>\n",
       "<style scoped>\n",
       "    .dataframe tbody tr th:only-of-type {\n",
       "        vertical-align: middle;\n",
       "    }\n",
       "\n",
       "    .dataframe tbody tr th {\n",
       "        vertical-align: top;\n",
       "    }\n",
       "\n",
       "    .dataframe thead th {\n",
       "        text-align: right;\n",
       "    }\n",
       "</style>\n",
       "<table border=\"1\" class=\"dataframe\">\n",
       "  <thead>\n",
       "    <tr style=\"text-align: right;\">\n",
       "      <th></th>\n",
       "      <th>zip</th>\n",
       "      <th>borough</th>\n",
       "    </tr>\n",
       "  </thead>\n",
       "  <tbody>\n",
       "    <tr>\n",
       "      <th>238</th>\n",
       "      <td>11694</td>\n",
       "      <td>Queens</td>\n",
       "    </tr>\n",
       "    <tr>\n",
       "      <th>239</th>\n",
       "      <td>11697</td>\n",
       "      <td>Queens</td>\n",
       "    </tr>\n",
       "  </tbody>\n",
       "</table>\n",
       "</div>"
      ],
      "text/plain": [
       "       zip borough\n",
       "238  11694  Queens\n",
       "239  11697  Queens"
      ]
     },
     "execution_count": 1036,
     "metadata": {},
     "output_type": "execute_result"
    }
   ],
   "source": [
    "# Retrieved on 05/28/2020 from https://worldpostalcode.com/united-states/new-york/new-york-city \n",
    "df_zipcodes = pd.read_csv('nyc_boroughs.csv', index_col = 0)\n",
    "df_zipcodes.tail(2)"
   ]
  },
  {
   "cell_type": "code",
   "execution_count": 1037,
   "metadata": {},
   "outputs": [
    {
     "data": {
      "text/plain": [
       "(240, 2)"
      ]
     },
     "execution_count": 1037,
     "metadata": {},
     "output_type": "execute_result"
    }
   ],
   "source": [
    "df_zipcodes.shape"
   ]
  },
  {
   "cell_type": "markdown",
   "metadata": {},
   "source": [
    "This looks like a good size (n=240) sample of zip codes that can be used for the analysis"
   ]
  },
  {
   "cell_type": "code",
   "execution_count": 1038,
   "metadata": {},
   "outputs": [
    {
     "data": {
      "text/html": [
       "<div>\n",
       "<style scoped>\n",
       "    .dataframe tbody tr th:only-of-type {\n",
       "        vertical-align: middle;\n",
       "    }\n",
       "\n",
       "    .dataframe tbody tr th {\n",
       "        vertical-align: top;\n",
       "    }\n",
       "\n",
       "    .dataframe thead th {\n",
       "        text-align: right;\n",
       "    }\n",
       "</style>\n",
       "<table border=\"1\" class=\"dataframe\">\n",
       "  <thead>\n",
       "    <tr style=\"text-align: right;\">\n",
       "      <th></th>\n",
       "      <th>Zipcode</th>\n",
       "    </tr>\n",
       "    <tr>\n",
       "      <th>Borough</th>\n",
       "      <th></th>\n",
       "    </tr>\n",
       "  </thead>\n",
       "  <tbody>\n",
       "    <tr>\n",
       "      <th>Bronx</th>\n",
       "      <td>25</td>\n",
       "    </tr>\n",
       "    <tr>\n",
       "      <th>Brooklyn</th>\n",
       "      <td>43</td>\n",
       "    </tr>\n",
       "    <tr>\n",
       "      <th>Manhattan</th>\n",
       "      <td>96</td>\n",
       "    </tr>\n",
       "    <tr>\n",
       "      <th>Queens</th>\n",
       "      <td>63</td>\n",
       "    </tr>\n",
       "    <tr>\n",
       "      <th>Staten</th>\n",
       "      <td>13</td>\n",
       "    </tr>\n",
       "  </tbody>\n",
       "</table>\n",
       "</div>"
      ],
      "text/plain": [
       "           Zipcode\n",
       "Borough           \n",
       "Bronx           25\n",
       "Brooklyn        43\n",
       "Manhattan       96\n",
       "Queens          63\n",
       "Staten          13"
      ]
     },
     "execution_count": 1038,
     "metadata": {},
     "output_type": "execute_result"
    }
   ],
   "source": [
    "df_zipcodes.rename(columns={'borough':'Borough', 'zip':'Zipcode'}, inplace=True)\n",
    "df_zipcodes.groupby('Borough').count()"
   ]
  },
  {
   "cell_type": "markdown",
   "metadata": {},
   "source": [
    "### Adding Zillow price estimates \n",
    "Use the list of sample zip codes to get good price estimates, in my case, latest estimates of 2-bedroom condo units"
   ]
  },
  {
   "cell_type": "code",
   "execution_count": 1039,
   "metadata": {},
   "outputs": [],
   "source": [
    "# Retrieved on 05-18-2020 from https://www.zillow.com/research/data/\n",
    "df_prices = pd.read_csv('condo_prices.csv', index_col=0)"
   ]
  },
  {
   "cell_type": "code",
   "execution_count": 1040,
   "metadata": {},
   "outputs": [
    {
     "data": {
      "text/plain": [
       "(10939, 299)"
      ]
     },
     "execution_count": 1040,
     "metadata": {},
     "output_type": "execute_result"
    }
   ],
   "source": [
    "# This data set contains zillow estimates for the entire nation\n",
    "df_prices.shape"
   ]
  },
  {
   "cell_type": "code",
   "execution_count": 1041,
   "metadata": {},
   "outputs": [
    {
     "data": {
      "text/html": [
       "<div>\n",
       "<style scoped>\n",
       "    .dataframe tbody tr th:only-of-type {\n",
       "        vertical-align: middle;\n",
       "    }\n",
       "\n",
       "    .dataframe tbody tr th {\n",
       "        vertical-align: top;\n",
       "    }\n",
       "\n",
       "    .dataframe thead th {\n",
       "        text-align: right;\n",
       "    }\n",
       "</style>\n",
       "<table border=\"1\" class=\"dataframe\">\n",
       "  <thead>\n",
       "    <tr style=\"text-align: right;\">\n",
       "      <th></th>\n",
       "      <th>SizeRank</th>\n",
       "      <th>RegionName</th>\n",
       "      <th>RegionType</th>\n",
       "      <th>StateName</th>\n",
       "      <th>State</th>\n",
       "      <th>City</th>\n",
       "      <th>Metro</th>\n",
       "      <th>CountyName</th>\n",
       "      <th>1996-01-31</th>\n",
       "      <th>1996-02-29</th>\n",
       "      <th>...</th>\n",
       "      <th>2019-06-30</th>\n",
       "      <th>2019-07-31</th>\n",
       "      <th>2019-08-31</th>\n",
       "      <th>2019-09-30</th>\n",
       "      <th>2019-10-31</th>\n",
       "      <th>2019-11-30</th>\n",
       "      <th>2019-12-31</th>\n",
       "      <th>2020-01-31</th>\n",
       "      <th>2020-02-29</th>\n",
       "      <th>2020-03-31</th>\n",
       "    </tr>\n",
       "    <tr>\n",
       "      <th>RegionID</th>\n",
       "      <th></th>\n",
       "      <th></th>\n",
       "      <th></th>\n",
       "      <th></th>\n",
       "      <th></th>\n",
       "      <th></th>\n",
       "      <th></th>\n",
       "      <th></th>\n",
       "      <th></th>\n",
       "      <th></th>\n",
       "      <th></th>\n",
       "      <th></th>\n",
       "      <th></th>\n",
       "      <th></th>\n",
       "      <th></th>\n",
       "      <th></th>\n",
       "      <th></th>\n",
       "      <th></th>\n",
       "      <th></th>\n",
       "      <th></th>\n",
       "      <th></th>\n",
       "    </tr>\n",
       "  </thead>\n",
       "  <tbody>\n",
       "    <tr>\n",
       "      <th>61639</th>\n",
       "      <td>0</td>\n",
       "      <td>10025</td>\n",
       "      <td>Zip</td>\n",
       "      <td>NY</td>\n",
       "      <td>NY</td>\n",
       "      <td>New York</td>\n",
       "      <td>New York-Newark-Jersey City</td>\n",
       "      <td>New York County</td>\n",
       "      <td>215591.0</td>\n",
       "      <td>214255.0</td>\n",
       "      <td>...</td>\n",
       "      <td>1249908.0</td>\n",
       "      <td>1239499.0</td>\n",
       "      <td>1219219.0</td>\n",
       "      <td>1203053.0</td>\n",
       "      <td>1188642.0</td>\n",
       "      <td>1182534.0</td>\n",
       "      <td>1175894.0</td>\n",
       "      <td>1153407.0</td>\n",
       "      <td>1123011.0</td>\n",
       "      <td>1085220.0</td>\n",
       "    </tr>\n",
       "    <tr>\n",
       "      <th>84654</th>\n",
       "      <td>1</td>\n",
       "      <td>60657</td>\n",
       "      <td>Zip</td>\n",
       "      <td>IL</td>\n",
       "      <td>IL</td>\n",
       "      <td>Chicago</td>\n",
       "      <td>Chicago-Naperville-Elgin</td>\n",
       "      <td>Cook County</td>\n",
       "      <td>194597.0</td>\n",
       "      <td>194456.0</td>\n",
       "      <td>...</td>\n",
       "      <td>403689.0</td>\n",
       "      <td>403756.0</td>\n",
       "      <td>403181.0</td>\n",
       "      <td>402122.0</td>\n",
       "      <td>401073.0</td>\n",
       "      <td>400025.0</td>\n",
       "      <td>399451.0</td>\n",
       "      <td>399424.0</td>\n",
       "      <td>400541.0</td>\n",
       "      <td>402007.0</td>\n",
       "    </tr>\n",
       "  </tbody>\n",
       "</table>\n",
       "<p>2 rows × 299 columns</p>\n",
       "</div>"
      ],
      "text/plain": [
       "          SizeRank  RegionName RegionType StateName State      City  \\\n",
       "RegionID                                                              \n",
       "61639            0       10025        Zip        NY    NY  New York   \n",
       "84654            1       60657        Zip        IL    IL   Chicago   \n",
       "\n",
       "                                Metro       CountyName  1996-01-31  \\\n",
       "RegionID                                                             \n",
       "61639     New York-Newark-Jersey City  New York County    215591.0   \n",
       "84654        Chicago-Naperville-Elgin      Cook County    194597.0   \n",
       "\n",
       "          1996-02-29  ...  2019-06-30  2019-07-31  2019-08-31  2019-09-30  \\\n",
       "RegionID              ...                                                   \n",
       "61639       214255.0  ...   1249908.0   1239499.0   1219219.0   1203053.0   \n",
       "84654       194456.0  ...    403689.0    403756.0    403181.0    402122.0   \n",
       "\n",
       "          2019-10-31  2019-11-30  2019-12-31  2020-01-31  2020-02-29  \\\n",
       "RegionID                                                               \n",
       "61639      1188642.0   1182534.0   1175894.0   1153407.0   1123011.0   \n",
       "84654       401073.0    400025.0    399451.0    399424.0    400541.0   \n",
       "\n",
       "          2020-03-31  \n",
       "RegionID              \n",
       "61639      1085220.0  \n",
       "84654       402007.0  \n",
       "\n",
       "[2 rows x 299 columns]"
      ]
     },
     "execution_count": 1041,
     "metadata": {},
     "output_type": "execute_result"
    }
   ],
   "source": [
    "# Inspect the columns \n",
    "df_prices.head(2)"
   ]
  },
  {
   "cell_type": "code",
   "execution_count": 1042,
   "metadata": {},
   "outputs": [],
   "source": [
    "# Only need the relevant price, say 2019-11-30, and RegionName (zipcode), plus Metro for checks\n",
    "df_prices.drop(df_prices.columns.difference(['RegionName', '2019-11-30']), 1, inplace=True)"
   ]
  },
  {
   "cell_type": "code",
   "execution_count": 1043,
   "metadata": {},
   "outputs": [
    {
     "data": {
      "text/plain": [
       "(157, 4)"
      ]
     },
     "execution_count": 1043,
     "metadata": {},
     "output_type": "execute_result"
    }
   ],
   "source": [
    "df_nyc_prices = df_zipcodes.merge(df_prices, left_on='Zipcode', right_on='RegionName')\n",
    "df_nyc_prices.shape"
   ]
  },
  {
   "cell_type": "markdown",
   "metadata": {},
   "source": [
    "Merged data set has less rows than original zip codes list but thats fine as there might have been some P.O boxes or reserved codes. The new list now has meaningful first feature - price estimate.\n",
    "\n",
    "Check if all observations map to New York city boroughs or if there any unexpected values. Looks fine so far!"
   ]
  },
  {
   "cell_type": "code",
   "execution_count": 1044,
   "metadata": {},
   "outputs": [
    {
     "data": {
      "text/html": [
       "<div>\n",
       "<style scoped>\n",
       "    .dataframe tbody tr th:only-of-type {\n",
       "        vertical-align: middle;\n",
       "    }\n",
       "\n",
       "    .dataframe tbody tr th {\n",
       "        vertical-align: top;\n",
       "    }\n",
       "\n",
       "    .dataframe thead th {\n",
       "        text-align: right;\n",
       "    }\n",
       "</style>\n",
       "<table border=\"1\" class=\"dataframe\">\n",
       "  <thead>\n",
       "    <tr style=\"text-align: right;\">\n",
       "      <th></th>\n",
       "      <th>Zipcode</th>\n",
       "      <th>RegionName</th>\n",
       "      <th>2019-11-30</th>\n",
       "    </tr>\n",
       "    <tr>\n",
       "      <th>Borough</th>\n",
       "      <th></th>\n",
       "      <th></th>\n",
       "      <th></th>\n",
       "    </tr>\n",
       "  </thead>\n",
       "  <tbody>\n",
       "    <tr>\n",
       "      <th>Bronx</th>\n",
       "      <td>16</td>\n",
       "      <td>16</td>\n",
       "      <td>16</td>\n",
       "    </tr>\n",
       "    <tr>\n",
       "      <th>Brooklyn</th>\n",
       "      <td>38</td>\n",
       "      <td>38</td>\n",
       "      <td>38</td>\n",
       "    </tr>\n",
       "    <tr>\n",
       "      <th>Manhattan</th>\n",
       "      <td>41</td>\n",
       "      <td>41</td>\n",
       "      <td>41</td>\n",
       "    </tr>\n",
       "    <tr>\n",
       "      <th>Queens</th>\n",
       "      <td>51</td>\n",
       "      <td>51</td>\n",
       "      <td>51</td>\n",
       "    </tr>\n",
       "    <tr>\n",
       "      <th>Staten</th>\n",
       "      <td>11</td>\n",
       "      <td>11</td>\n",
       "      <td>11</td>\n",
       "    </tr>\n",
       "  </tbody>\n",
       "</table>\n",
       "</div>"
      ],
      "text/plain": [
       "           Zipcode  RegionName  2019-11-30\n",
       "Borough                                   \n",
       "Bronx           16          16          16\n",
       "Brooklyn        38          38          38\n",
       "Manhattan       41          41          41\n",
       "Queens          51          51          51\n",
       "Staten          11          11          11"
      ]
     },
     "execution_count": 1044,
     "metadata": {},
     "output_type": "execute_result"
    }
   ],
   "source": [
    "df_nyc_prices.groupby('Borough').count()"
   ]
  },
  {
   "cell_type": "markdown",
   "metadata": {},
   "source": [
    "Finally, drop control column 'RegionName', rename the column to 'Price' and check if there are any missing values."
   ]
  },
  {
   "cell_type": "code",
   "execution_count": 1045,
   "metadata": {},
   "outputs": [
    {
     "data": {
      "text/plain": [
       "False"
      ]
     },
     "execution_count": 1045,
     "metadata": {},
     "output_type": "execute_result"
    }
   ],
   "source": [
    "df_nyc_prices.rename(columns={'2019-11-30':'Price'}, inplace=True)\n",
    "df_nyc_prices.drop(['RegionName'], axis=1, inplace=True)\n",
    "df_nyc_prices['Price'].isna().values.any()"
   ]
  },
  {
   "cell_type": "markdown",
   "metadata": {},
   "source": [
    "### Addining Zillow rental estimates"
   ]
  },
  {
   "cell_type": "code",
   "execution_count": 1046,
   "metadata": {},
   "outputs": [],
   "source": [
    "# Retrieved on 05-18-2020 from https://www.zillow.com/research/data/\n",
    "df_rents=pd.read_csv('condo_rentals.csv', index_col = 0)"
   ]
  },
  {
   "cell_type": "code",
   "execution_count": 1047,
   "metadata": {},
   "outputs": [
    {
     "data": {
      "text/plain": [
       "(13181, 119)"
      ]
     },
     "execution_count": 1047,
     "metadata": {},
     "output_type": "execute_result"
    }
   ],
   "source": [
    "df_rents.shape"
   ]
  },
  {
   "cell_type": "code",
   "execution_count": 1048,
   "metadata": {},
   "outputs": [
    {
     "data": {
      "text/html": [
       "<div>\n",
       "<style scoped>\n",
       "    .dataframe tbody tr th:only-of-type {\n",
       "        vertical-align: middle;\n",
       "    }\n",
       "\n",
       "    .dataframe tbody tr th {\n",
       "        vertical-align: top;\n",
       "    }\n",
       "\n",
       "    .dataframe thead th {\n",
       "        text-align: right;\n",
       "    }\n",
       "</style>\n",
       "<table border=\"1\" class=\"dataframe\">\n",
       "  <thead>\n",
       "    <tr style=\"text-align: right;\">\n",
       "      <th></th>\n",
       "      <th>RegionName</th>\n",
       "      <th>City</th>\n",
       "      <th>State</th>\n",
       "      <th>Metro</th>\n",
       "      <th>CountyName</th>\n",
       "      <th>SizeRank</th>\n",
       "      <th>2010-09</th>\n",
       "      <th>2010-10</th>\n",
       "      <th>2010-11</th>\n",
       "      <th>2010-12</th>\n",
       "      <th>...</th>\n",
       "      <th>2019-04</th>\n",
       "      <th>2019-05</th>\n",
       "      <th>2019-06</th>\n",
       "      <th>2019-07</th>\n",
       "      <th>2019-08</th>\n",
       "      <th>2019-09</th>\n",
       "      <th>2019-10</th>\n",
       "      <th>2019-11</th>\n",
       "      <th>2019-12</th>\n",
       "      <th>2020-01</th>\n",
       "    </tr>\n",
       "    <tr>\n",
       "      <th>RegionID</th>\n",
       "      <th></th>\n",
       "      <th></th>\n",
       "      <th></th>\n",
       "      <th></th>\n",
       "      <th></th>\n",
       "      <th></th>\n",
       "      <th></th>\n",
       "      <th></th>\n",
       "      <th></th>\n",
       "      <th></th>\n",
       "      <th></th>\n",
       "      <th></th>\n",
       "      <th></th>\n",
       "      <th></th>\n",
       "      <th></th>\n",
       "      <th></th>\n",
       "      <th></th>\n",
       "      <th></th>\n",
       "      <th></th>\n",
       "      <th></th>\n",
       "      <th></th>\n",
       "    </tr>\n",
       "  </thead>\n",
       "  <tbody>\n",
       "    <tr>\n",
       "      <th>61639</th>\n",
       "      <td>10025</td>\n",
       "      <td>New York</td>\n",
       "      <td>NY</td>\n",
       "      <td>New York-Newark-Jersey City</td>\n",
       "      <td>New York County</td>\n",
       "      <td>1</td>\n",
       "      <td>3031.0</td>\n",
       "      <td>3058.0</td>\n",
       "      <td>3031.0</td>\n",
       "      <td>3015.0</td>\n",
       "      <td>...</td>\n",
       "      <td>3785.0</td>\n",
       "      <td>3788.0</td>\n",
       "      <td>3786.0</td>\n",
       "      <td>3784.0</td>\n",
       "      <td>3766.0</td>\n",
       "      <td>3779.0</td>\n",
       "      <td>3843.0</td>\n",
       "      <td>3873.0</td>\n",
       "      <td>3835.0</td>\n",
       "      <td>NaN</td>\n",
       "    </tr>\n",
       "    <tr>\n",
       "      <th>84654</th>\n",
       "      <td>60657</td>\n",
       "      <td>Chicago</td>\n",
       "      <td>IL</td>\n",
       "      <td>Chicago-Naperville-Elgin</td>\n",
       "      <td>Cook County</td>\n",
       "      <td>2</td>\n",
       "      <td>1790.0</td>\n",
       "      <td>1787.0</td>\n",
       "      <td>1784.0</td>\n",
       "      <td>1774.0</td>\n",
       "      <td>...</td>\n",
       "      <td>2039.0</td>\n",
       "      <td>2070.0</td>\n",
       "      <td>2105.0</td>\n",
       "      <td>2140.0</td>\n",
       "      <td>2168.0</td>\n",
       "      <td>2185.0</td>\n",
       "      <td>2125.0</td>\n",
       "      <td>NaN</td>\n",
       "      <td>2053.0</td>\n",
       "      <td>1996.0</td>\n",
       "    </tr>\n",
       "  </tbody>\n",
       "</table>\n",
       "<p>2 rows × 119 columns</p>\n",
       "</div>"
      ],
      "text/plain": [
       "          RegionName      City State                        Metro  \\\n",
       "RegionID                                                            \n",
       "61639          10025  New York    NY  New York-Newark-Jersey City   \n",
       "84654          60657   Chicago    IL     Chicago-Naperville-Elgin   \n",
       "\n",
       "               CountyName  SizeRank  2010-09  2010-10  2010-11  2010-12  ...  \\\n",
       "RegionID                                                                 ...   \n",
       "61639     New York County         1   3031.0   3058.0   3031.0   3015.0  ...   \n",
       "84654         Cook County         2   1790.0   1787.0   1784.0   1774.0  ...   \n",
       "\n",
       "          2019-04  2019-05  2019-06  2019-07  2019-08  2019-09  2019-10  \\\n",
       "RegionID                                                                  \n",
       "61639      3785.0   3788.0   3786.0   3784.0   3766.0   3779.0   3843.0   \n",
       "84654      2039.0   2070.0   2105.0   2140.0   2168.0   2185.0   2125.0   \n",
       "\n",
       "          2019-11  2019-12  2020-01  \n",
       "RegionID                             \n",
       "61639      3873.0   3835.0      NaN  \n",
       "84654         NaN   2053.0   1996.0  \n",
       "\n",
       "[2 rows x 119 columns]"
      ]
     },
     "execution_count": 1048,
     "metadata": {},
     "output_type": "execute_result"
    }
   ],
   "source": [
    "df_rents.head(2)"
   ]
  },
  {
   "cell_type": "code",
   "execution_count": 1049,
   "metadata": {},
   "outputs": [],
   "source": [
    "# Only need relevant price, say 2019-11-30, and RegionName (zipcode), plus Metro for checks\n",
    "df_rents.drop(df_rents.columns.difference(['RegionName', '2019-11']), 1, inplace=True)"
   ]
  },
  {
   "cell_type": "code",
   "execution_count": 1050,
   "metadata": {},
   "outputs": [
    {
     "data": {
      "text/plain": [
       "(136, 5)"
      ]
     },
     "execution_count": 1050,
     "metadata": {},
     "output_type": "execute_result"
    }
   ],
   "source": [
    "df_nyc_prices_rents = df_nyc_prices.merge(df_rents, left_on='Zipcode', right_on='RegionName')\n",
    "df_nyc_prices_rents.shape"
   ]
  },
  {
   "cell_type": "markdown",
   "metadata": {},
   "source": [
    "More observations (rows) were lost because not all zip codes had a rental estimate. Still seems to be a reasonable sample size (n=136)."
   ]
  },
  {
   "cell_type": "code",
   "execution_count": 1051,
   "metadata": {},
   "outputs": [
    {
     "data": {
      "text/html": [
       "<div>\n",
       "<style scoped>\n",
       "    .dataframe tbody tr th:only-of-type {\n",
       "        vertical-align: middle;\n",
       "    }\n",
       "\n",
       "    .dataframe tbody tr th {\n",
       "        vertical-align: top;\n",
       "    }\n",
       "\n",
       "    .dataframe thead th {\n",
       "        text-align: right;\n",
       "    }\n",
       "</style>\n",
       "<table border=\"1\" class=\"dataframe\">\n",
       "  <thead>\n",
       "    <tr style=\"text-align: right;\">\n",
       "      <th></th>\n",
       "      <th>Zipcode</th>\n",
       "      <th>Price</th>\n",
       "      <th>RegionName</th>\n",
       "      <th>2019-11</th>\n",
       "    </tr>\n",
       "    <tr>\n",
       "      <th>Borough</th>\n",
       "      <th></th>\n",
       "      <th></th>\n",
       "      <th></th>\n",
       "      <th></th>\n",
       "    </tr>\n",
       "  </thead>\n",
       "  <tbody>\n",
       "    <tr>\n",
       "      <th>Bronx</th>\n",
       "      <td>16</td>\n",
       "      <td>16</td>\n",
       "      <td>16</td>\n",
       "      <td>15</td>\n",
       "    </tr>\n",
       "    <tr>\n",
       "      <th>Brooklyn</th>\n",
       "      <td>34</td>\n",
       "      <td>34</td>\n",
       "      <td>34</td>\n",
       "      <td>29</td>\n",
       "    </tr>\n",
       "    <tr>\n",
       "      <th>Manhattan</th>\n",
       "      <td>26</td>\n",
       "      <td>26</td>\n",
       "      <td>26</td>\n",
       "      <td>25</td>\n",
       "    </tr>\n",
       "    <tr>\n",
       "      <th>Queens</th>\n",
       "      <td>49</td>\n",
       "      <td>49</td>\n",
       "      <td>49</td>\n",
       "      <td>49</td>\n",
       "    </tr>\n",
       "    <tr>\n",
       "      <th>Staten</th>\n",
       "      <td>11</td>\n",
       "      <td>11</td>\n",
       "      <td>11</td>\n",
       "      <td>11</td>\n",
       "    </tr>\n",
       "  </tbody>\n",
       "</table>\n",
       "</div>"
      ],
      "text/plain": [
       "           Zipcode  Price  RegionName  2019-11\n",
       "Borough                                       \n",
       "Bronx           16     16          16       15\n",
       "Brooklyn        34     34          34       29\n",
       "Manhattan       26     26          26       25\n",
       "Queens          49     49          49       49\n",
       "Staten          11     11          11       11"
      ]
     },
     "execution_count": 1051,
     "metadata": {},
     "output_type": "execute_result"
    }
   ],
   "source": [
    "df_nyc_prices_rents.groupby('Borough').count()"
   ]
  },
  {
   "cell_type": "markdown",
   "metadata": {},
   "source": [
    "Moreover, from the grouped table above, it seems that some zip codes do have a price estimate but do not have rent estimate. So, drop missing values and check the data set. Drop control column and rename column 'Rent'."
   ]
  },
  {
   "cell_type": "code",
   "execution_count": 1052,
   "metadata": {},
   "outputs": [
    {
     "data": {
      "text/plain": [
       "True"
      ]
     },
     "execution_count": 1052,
     "metadata": {},
     "output_type": "execute_result"
    }
   ],
   "source": [
    "df_nyc_prices_rents.rename(columns={'2019-11':'Rent'}, inplace=True)\n",
    "df_nyc_prices_rents.drop(['RegionName'], axis=1, inplace=True)\n",
    "df_nyc_prices_rents['Rent'].isna().values.any()"
   ]
  },
  {
   "cell_type": "code",
   "execution_count": 1053,
   "metadata": {},
   "outputs": [
    {
     "data": {
      "text/plain": [
       "(136, 4)"
      ]
     },
     "execution_count": 1053,
     "metadata": {},
     "output_type": "execute_result"
    }
   ],
   "source": [
    "df_nyc_prices_rents.shape"
   ]
  },
  {
   "cell_type": "code",
   "execution_count": 1054,
   "metadata": {},
   "outputs": [
    {
     "data": {
      "text/plain": [
       "(129, 4)"
      ]
     },
     "execution_count": 1054,
     "metadata": {},
     "output_type": "execute_result"
    }
   ],
   "source": [
    "df_nyc_prices_rents.dropna(inplace=True)\n",
    "df_nyc_prices_rents.shape"
   ]
  },
  {
   "cell_type": "code",
   "execution_count": 1055,
   "metadata": {},
   "outputs": [
    {
     "data": {
      "text/plain": [
       "(129, 4)"
      ]
     },
     "execution_count": 1055,
     "metadata": {},
     "output_type": "execute_result"
    }
   ],
   "source": [
    "df_nyc_prices_rents.shape"
   ]
  },
  {
   "cell_type": "code",
   "execution_count": 1056,
   "metadata": {},
   "outputs": [
    {
     "data": {
      "text/plain": [
       "False"
      ]
     },
     "execution_count": 1056,
     "metadata": {},
     "output_type": "execute_result"
    }
   ],
   "source": [
    "df_nyc_prices_rents['Rent'].isna().values.any()"
   ]
  },
  {
   "cell_type": "markdown",
   "metadata": {},
   "source": [
    "Final size is smaller (n=129) but there are no missing values"
   ]
  },
  {
   "cell_type": "markdown",
   "metadata": {},
   "source": [
    "## Exploratory visual analysis"
   ]
  },
  {
   "cell_type": "markdown",
   "metadata": {},
   "source": [
    "Big picture - scatter of rents and prices in the city with respective histograms"
   ]
  },
  {
   "cell_type": "code",
   "execution_count": 1093,
   "metadata": {},
   "outputs": [
    {
     "data": {
      "image/png": "[encoded data removed]",
      "text/plain": [
       "<Figure size 842.4x595.44 with 3 Axes>"
      ]
     },
     "metadata": {
      "needs_background": "light"
     },
     "output_type": "display_data"
    }
   ],
   "source": [
    "sns.jointplot(\"Price\", \"Rent\", data=df_nyc_prices_rents,\n",
    "                  height=5, ratio=3, color=\"b\").plot_joint(sns.kdeplot, zorder=0, n_levels=6)\n",
    "\n",
    "plt.gcf().set_size_inches(11.7, 8.27)\n",
    "plt.title(\"Boroughs scatter plot\", fontsize=14)\n",
    "plt.show()"
   ]
  },
  {
   "cell_type": "markdown",
   "metadata": {},
   "source": [
    "When plotting 'Rent' against 'Price\" it seems that the data are not homegeneous at all. "
   ]
  },
  {
   "cell_type": "code",
   "execution_count": 1058,
   "metadata": {},
   "outputs": [
    {
     "data": {
      "image/png": "[encoded data removed]",
      "text/plain": [
       "<Figure size 1080x216 with 5 Axes>"
      ]
     },
     "metadata": {
      "needs_background": "light"
     },
     "output_type": "display_data"
    }
   ],
   "source": [
    "g1 = sns.lmplot(x='Price', y='Rent', data=df_nyc_prices_rents, ci=85,\n",
    "                col='Borough', height=3, robust=False)\n",
    "g1 = g1.set_axis_labels('Price', 'Rent')\n",
    "plt.show()"
   ]
  },
  {
   "cell_type": "markdown",
   "metadata": {},
   "source": [
    "Splitting by boroughs confirms this idea. When looking at the slope of regression lines, rent/price relationship appears to be different. There may be at list 2 or 3 distinct groups."
   ]
  },
  {
   "cell_type": "code",
   "execution_count": 1059,
   "metadata": {},
   "outputs": [
    {
     "data": {
      "image/png": "[encoded data removed]",
      "text/plain": [
       "<Figure size 842.4x595.44 with 2 Axes>"
      ]
     },
     "metadata": {
      "needs_background": "light"
     },
     "output_type": "display_data"
    }
   ],
   "source": [
    "# Use box plots to assess the variance\n",
    "fig, axes = plt.subplots(nrows=1, ncols=2)\n",
    "fig.suptitle(\"Boroughs with-in group variations\", fontsize=14) \n",
    "sns.boxplot(x=\"Borough\", y=\"Price\", data = df_nyc_prices_rents, ax=axes[0])\n",
    "sns.boxplot(x=\"Borough\", y=\"Rent\", data = df_nyc_prices_rents, ax=axes[1])\n",
    "plt.gcf().set_size_inches(11.7, 8.27)\n",
    "plt.show()"
   ]
  },
  {
   "cell_type": "markdown",
   "metadata": {},
   "source": [
    "Variance within the boroughs is large, especially in Manhattan and Brooklyn. This may be a problem for the predictions."
   ]
  },
  {
   "cell_type": "markdown",
   "metadata": {},
   "source": [
    "## Adding geospatial data"
   ]
  },
  {
   "cell_type": "code",
   "execution_count": 996,
   "metadata": {},
   "outputs": [],
   "source": [
    "# Source: https://gist.github.com/erichurst/7882666#file-us-zip-codes-from-2013-government-data\n",
    "# Retrieved on 05/28/200\n",
    "#df_zip_coordinates = pd.read_csv('https://gist.githubusercontent.com/erichurst/7882666/raw/5bdc46db47d9515269ab12ed6fb2850377fd869e/US%2520Zip%2520Codes%2520from%25202013%2520Government%2520Data')\n",
    "# Due to importance of these coordinates, I make a local csv copy\n",
    "#df_zip_coordinates.to_csv('zip_coordinates.csv')"
   ]
  },
  {
   "cell_type": "code",
   "execution_count": 1060,
   "metadata": {},
   "outputs": [
    {
     "data": {
      "text/html": [
       "<div>\n",
       "<style scoped>\n",
       "    .dataframe tbody tr th:only-of-type {\n",
       "        vertical-align: middle;\n",
       "    }\n",
       "\n",
       "    .dataframe tbody tr th {\n",
       "        vertical-align: top;\n",
       "    }\n",
       "\n",
       "    .dataframe thead th {\n",
       "        text-align: right;\n",
       "    }\n",
       "</style>\n",
       "<table border=\"1\" class=\"dataframe\">\n",
       "  <thead>\n",
       "    <tr style=\"text-align: right;\">\n",
       "      <th></th>\n",
       "      <th>ZIP</th>\n",
       "      <th>LAT</th>\n",
       "      <th>LNG</th>\n",
       "    </tr>\n",
       "  </thead>\n",
       "  <tbody>\n",
       "    <tr>\n",
       "      <th>0</th>\n",
       "      <td>601</td>\n",
       "      <td>18.180555</td>\n",
       "      <td>-66.749961</td>\n",
       "    </tr>\n",
       "    <tr>\n",
       "      <th>1</th>\n",
       "      <td>602</td>\n",
       "      <td>18.361945</td>\n",
       "      <td>-67.175597</td>\n",
       "    </tr>\n",
       "    <tr>\n",
       "      <th>2</th>\n",
       "      <td>603</td>\n",
       "      <td>18.455183</td>\n",
       "      <td>-67.119887</td>\n",
       "    </tr>\n",
       "    <tr>\n",
       "      <th>3</th>\n",
       "      <td>606</td>\n",
       "      <td>18.158345</td>\n",
       "      <td>-66.932911</td>\n",
       "    </tr>\n",
       "    <tr>\n",
       "      <th>4</th>\n",
       "      <td>610</td>\n",
       "      <td>18.295366</td>\n",
       "      <td>-67.125135</td>\n",
       "    </tr>\n",
       "  </tbody>\n",
       "</table>\n",
       "</div>"
      ],
      "text/plain": [
       "   ZIP        LAT        LNG\n",
       "0  601  18.180555 -66.749961\n",
       "1  602  18.361945 -67.175597\n",
       "2  603  18.455183 -67.119887\n",
       "3  606  18.158345 -66.932911\n",
       "4  610  18.295366 -67.125135"
      ]
     },
     "execution_count": 1060,
     "metadata": {},
     "output_type": "execute_result"
    }
   ],
   "source": [
    "df_zip_coordinates= pd.read_csv('zip_coordinates.csv', index_col = 0)\n",
    "df_zip_coordinates.head()"
   ]
  },
  {
   "cell_type": "code",
   "execution_count": 1061,
   "metadata": {},
   "outputs": [],
   "source": [
    "# Merge nyc dataset with nyc coordinates\n",
    "df_nyc_prices_rents = df_nyc_prices_rents.merge(df_zip_coordinates, left_on='Zipcode', right_on='ZIP')"
   ]
  },
  {
   "cell_type": "code",
   "execution_count": 1062,
   "metadata": {},
   "outputs": [
    {
     "data": {
      "text/html": [
       "<div>\n",
       "<style scoped>\n",
       "    .dataframe tbody tr th:only-of-type {\n",
       "        vertical-align: middle;\n",
       "    }\n",
       "\n",
       "    .dataframe tbody tr th {\n",
       "        vertical-align: top;\n",
       "    }\n",
       "\n",
       "    .dataframe thead th {\n",
       "        text-align: right;\n",
       "    }\n",
       "</style>\n",
       "<table border=\"1\" class=\"dataframe\">\n",
       "  <thead>\n",
       "    <tr style=\"text-align: right;\">\n",
       "      <th></th>\n",
       "      <th>Zipcode</th>\n",
       "      <th>Price</th>\n",
       "      <th>Rent</th>\n",
       "      <th>ZIP</th>\n",
       "      <th>LAT</th>\n",
       "      <th>LNG</th>\n",
       "    </tr>\n",
       "    <tr>\n",
       "      <th>Borough</th>\n",
       "      <th></th>\n",
       "      <th></th>\n",
       "      <th></th>\n",
       "      <th></th>\n",
       "      <th></th>\n",
       "      <th></th>\n",
       "    </tr>\n",
       "  </thead>\n",
       "  <tbody>\n",
       "    <tr>\n",
       "      <th>Bronx</th>\n",
       "      <td>15</td>\n",
       "      <td>15</td>\n",
       "      <td>15</td>\n",
       "      <td>15</td>\n",
       "      <td>15</td>\n",
       "      <td>15</td>\n",
       "    </tr>\n",
       "    <tr>\n",
       "      <th>Brooklyn</th>\n",
       "      <td>28</td>\n",
       "      <td>28</td>\n",
       "      <td>28</td>\n",
       "      <td>28</td>\n",
       "      <td>28</td>\n",
       "      <td>28</td>\n",
       "    </tr>\n",
       "    <tr>\n",
       "      <th>Manhattan</th>\n",
       "      <td>25</td>\n",
       "      <td>25</td>\n",
       "      <td>25</td>\n",
       "      <td>25</td>\n",
       "      <td>25</td>\n",
       "      <td>25</td>\n",
       "    </tr>\n",
       "    <tr>\n",
       "      <th>Queens</th>\n",
       "      <td>49</td>\n",
       "      <td>49</td>\n",
       "      <td>49</td>\n",
       "      <td>49</td>\n",
       "      <td>49</td>\n",
       "      <td>49</td>\n",
       "    </tr>\n",
       "    <tr>\n",
       "      <th>Staten</th>\n",
       "      <td>11</td>\n",
       "      <td>11</td>\n",
       "      <td>11</td>\n",
       "      <td>11</td>\n",
       "      <td>11</td>\n",
       "      <td>11</td>\n",
       "    </tr>\n",
       "  </tbody>\n",
       "</table>\n",
       "</div>"
      ],
      "text/plain": [
       "           Zipcode  Price  Rent  ZIP  LAT  LNG\n",
       "Borough                                       \n",
       "Bronx           15     15    15   15   15   15\n",
       "Brooklyn        28     28    28   28   28   28\n",
       "Manhattan       25     25    25   25   25   25\n",
       "Queens          49     49    49   49   49   49\n",
       "Staten          11     11    11   11   11   11"
      ]
     },
     "execution_count": 1062,
     "metadata": {},
     "output_type": "execute_result"
    }
   ],
   "source": [
    "df_nyc_prices_rents.groupby('Borough').count()"
   ]
  },
  {
   "cell_type": "code",
   "execution_count": 1063,
   "metadata": {},
   "outputs": [
    {
     "data": {
      "text/plain": [
       "(128, 6)"
      ]
     },
     "execution_count": 1063,
     "metadata": {},
     "output_type": "execute_result"
    }
   ],
   "source": [
    "# Now it is okay to drop repetitive Zip column\n",
    "df_nyc_prices_rents.drop(['ZIP'], axis=1, inplace=True)\n",
    "df_nyc_prices_rents.shape"
   ]
  },
  {
   "cell_type": "code",
   "execution_count": 1064,
   "metadata": {},
   "outputs": [
    {
     "data": {
      "text/plain": [
       "False"
      ]
     },
     "execution_count": 1064,
     "metadata": {},
     "output_type": "execute_result"
    }
   ],
   "source": [
    "# Check if there any missing values\n",
    "df_nyc_prices_rents['LAT'].isna().values.any()"
   ]
  },
  {
   "cell_type": "code",
   "execution_count": 1065,
   "metadata": {},
   "outputs": [
    {
     "data": {
      "text/plain": [
       "False"
      ]
     },
     "execution_count": 1065,
     "metadata": {},
     "output_type": "execute_result"
    }
   ],
   "source": [
    "df_nyc_prices_rents['LNG'].isna().values.any()"
   ]
  },
  {
   "cell_type": "code",
   "execution_count": 1005,
   "metadata": {},
   "outputs": [],
   "source": [
    "# Creat a local copy of teh entire data set for audit purposes:\n",
    "#df_nyc_prices_rents.to_csv('nyc_pyces_rents.csv')"
   ]
  },
  {
   "cell_type": "markdown",
   "metadata": {},
   "source": [
    "# Adding Local Venues"
   ]
  },
  {
   "cell_type": "markdown",
   "metadata": {},
   "source": [
    "### Connecting to Foursquares server and data pull"
   ]
  },
  {
   "cell_type": "code",
   "execution_count": 72,
   "metadata": {},
   "outputs": [],
   "source": [
    "#config.py file stores Client_ID and Client_Secret and is in gitignore\n",
    "CLIENT_ID = config.CLIENT_ID \n",
    "CLIENT_SECRET = config.CLIENT_SECRET \n",
    "VERSION = '20191130'"
   ]
  },
  {
   "cell_type": "code",
   "execution_count": 458,
   "metadata": {},
   "outputs": [],
   "source": [
    "latitude = df_nyc_prices_rents.loc[0, 'LAT'] \n",
    "longitude = df_nyc_prices_rents.loc[0, 'LNG'] # neighborhood longitude value\n",
    "zipcode = df_nyc_prices_rents.loc[0, 'ZIP'] # neighborhood name\n",
    "\n",
    "LIMIT = 500 \n",
    "radius = 500"
   ]
  },
  {
   "cell_type": "code",
   "execution_count": 459,
   "metadata": {},
   "outputs": [],
   "source": [
    "url = 'https://api.foursquare.com/v2/venues/explore?&client_id={}&client_secret={}&v={}&ll={},{}&radius={}&limit={}'.format(\n",
    "    CLIENT_ID, \n",
    "    CLIENT_SECRET, \n",
    "    VERSION, \n",
    "    latitude, \n",
    "    longitude, \n",
    "    radius, \n",
    "    LIMIT)\n"
   ]
  },
  {
   "cell_type": "code",
   "execution_count": 1094,
   "metadata": {},
   "outputs": [],
   "source": [
    "results = requests.get(url).json()\n",
    "#results"
   ]
  },
  {
   "cell_type": "code",
   "execution_count": 461,
   "metadata": {},
   "outputs": [],
   "source": [
    "# function that extracts the category of the venue\n",
    "def get_category_type(row):\n",
    "    try:\n",
    "        categories_list = row['categories']\n",
    "    except:\n",
    "        categories_list = row['venue.categories']\n",
    "        \n",
    "    if len(categories_list) == 0:\n",
    "        return None\n",
    "    else:\n",
    "        return categories_list[0]['name']"
   ]
  },
  {
   "cell_type": "code",
   "execution_count": 1066,
   "metadata": {},
   "outputs": [],
   "source": [
    "venues = results['response']['groups'][0]['items']\n",
    "    \n",
    "df_nearby_venues = json_normalize(venues) \n",
    "filtered_columns = ['venue.name', 'venue.categories', 'venue.location.lat', 'venue.location.lng']\n",
    "df_nearby_venues = df_nearby_venues.loc[:, filtered_columns]\n",
    "df_nearby_venues['venue.categories'] = df_nearby_venues.apply(get_category_type, axis=1)\n",
    "df_nearby_venues.columns = [col.split(\".\")[-1] for col in df_nearby_venues.columns]"
   ]
  },
  {
   "cell_type": "code",
   "execution_count": 1067,
   "metadata": {},
   "outputs": [
    {
     "name": "stdout",
     "output_type": "stream",
     "text": [
      "4 venues were returned by Foursquare.\n"
     ]
    }
   ],
   "source": [
    "print('{} venues were returned by Foursquare.'.format(df_nearby_venues.shape[1]))"
   ]
  },
  {
   "cell_type": "code",
   "execution_count": 464,
   "metadata": {},
   "outputs": [],
   "source": [
    "def getNearbyVenues(zipcodes, latitudes, longitudes, radius=500):\n",
    "    \n",
    "    venues_list=[]\n",
    "    for zipcode, lat, lng in zip(zipcodes, latitudes, longitudes):\n",
    "        print('Retrieving local values for the zip code:', zipcode)\n",
    "            \n",
    "        # create the API request URL\n",
    "        url = 'https://api.foursquare.com/v2/venues/explore?&client_id={}&client_secret={}&v={}&ll={},{}&radius={}&limit={}'.format(\n",
    "            CLIENT_ID, \n",
    "            CLIENT_SECRET, \n",
    "            VERSION, \n",
    "            lat, \n",
    "            lng, \n",
    "            radius, \n",
    "            LIMIT)\n",
    "            \n",
    "        # make the GET request\n",
    "        results = requests.get(url).json()[\"response\"]['groups'][0]['items']\n",
    "        \n",
    "        # return only relevant information for each nearby venue\n",
    "        venues_list.append([(\n",
    "            zipcode, \n",
    "            lat, \n",
    "            lng, \n",
    "            v['venue']['name'], \n",
    "            v['venue']['location']['lat'], \n",
    "            v['venue']['location']['lng'],  \n",
    "            v['venue']['categories'][0]['name']) for v in results])\n",
    "\n",
    "    nearby_venues = pd.DataFrame([item for venue_list in venues_list for item in venue_list])\n",
    "    nearby_venues.columns = ['Zip', \n",
    "                  'Latitude', \n",
    "                  'Longitude', \n",
    "                  'Venue', \n",
    "                  'Venue Latitude', \n",
    "                  'Venue Longitude', \n",
    "                  'Venue Category']\n",
    "    \n",
    "    return(nearby_venues)"
   ]
  },
  {
   "cell_type": "code",
   "execution_count": 466,
   "metadata": {},
   "outputs": [],
   "source": [
    "# Used to update df_nyc_venues table with data from Foursquares server\n",
    "\n",
    "#df_nyc_venues = getNearbyVenues(zipcodes=df_nyc_prices_rents['Zipcode'],\n",
    "#                             latitudes=df_nyc_prices_rents['LAT'],\n",
    "#                             longitudes=df_nyc_prices_rents['LNG']\n",
    "#                            )\n"
   ]
  },
  {
   "cell_type": "code",
   "execution_count": 1069,
   "metadata": {},
   "outputs": [
    {
     "name": "stdout",
     "output_type": "stream",
     "text": [
      "(5142, 7)\n"
     ]
    },
    {
     "data": {
      "text/html": [
       "<div>\n",
       "<style scoped>\n",
       "    .dataframe tbody tr th:only-of-type {\n",
       "        vertical-align: middle;\n",
       "    }\n",
       "\n",
       "    .dataframe tbody tr th {\n",
       "        vertical-align: top;\n",
       "    }\n",
       "\n",
       "    .dataframe thead th {\n",
       "        text-align: right;\n",
       "    }\n",
       "</style>\n",
       "<table border=\"1\" class=\"dataframe\">\n",
       "  <thead>\n",
       "    <tr style=\"text-align: right;\">\n",
       "      <th></th>\n",
       "      <th>Zip</th>\n",
       "      <th>Latitude</th>\n",
       "      <th>Longitude</th>\n",
       "      <th>Venue</th>\n",
       "      <th>Venue Latitude</th>\n",
       "      <th>Venue Longitude</th>\n",
       "      <th>Venue Category</th>\n",
       "    </tr>\n",
       "  </thead>\n",
       "  <tbody>\n",
       "    <tr>\n",
       "      <th>0</th>\n",
       "      <td>10001</td>\n",
       "      <td>40.750633</td>\n",
       "      <td>-73.997177</td>\n",
       "      <td>Bluestone Lane</td>\n",
       "      <td>40.752068</td>\n",
       "      <td>-73.998848</td>\n",
       "      <td>Coffee Shop</td>\n",
       "    </tr>\n",
       "    <tr>\n",
       "      <th>1</th>\n",
       "      <td>10001</td>\n",
       "      <td>40.750633</td>\n",
       "      <td>-73.997177</td>\n",
       "      <td>You Should Be Dancing…..! / Club 412</td>\n",
       "      <td>40.750306</td>\n",
       "      <td>-73.994743</td>\n",
       "      <td>Dance Studio</td>\n",
       "    </tr>\n",
       "  </tbody>\n",
       "</table>\n",
       "</div>"
      ],
      "text/plain": [
       "     Zip   Latitude  Longitude                                 Venue  \\\n",
       "0  10001  40.750633 -73.997177                        Bluestone Lane   \n",
       "1  10001  40.750633 -73.997177  You Should Be Dancing…..! / Club 412   \n",
       "\n",
       "   Venue Latitude  Venue Longitude Venue Category  \n",
       "0       40.752068       -73.998848    Coffee Shop  \n",
       "1       40.750306       -73.994743   Dance Studio  "
      ]
     },
     "execution_count": 1069,
     "metadata": {},
     "output_type": "execute_result"
    }
   ],
   "source": [
    "print(df_nyc_venues.shape)\n",
    "#Take back up of the data set for audit \n",
    "#df_nyc_venues.to_csv('nyc_venues_r500.csv')\n",
    "df_nyc_venues.head(2)"
   ]
  },
  {
   "cell_type": "code",
   "execution_count": 1070,
   "metadata": {},
   "outputs": [
    {
     "name": "stdout",
     "output_type": "stream",
     "text": [
      "There are 376 uniques categories.\n"
     ]
    }
   ],
   "source": [
    "print('There are {} uniques categories.'.format(len(df_nyc_venues['Venue Category'].unique())))"
   ]
  },
  {
   "cell_type": "code",
   "execution_count": 1071,
   "metadata": {},
   "outputs": [
    {
     "data": {
      "text/html": [
       "<div>\n",
       "<style scoped>\n",
       "    .dataframe tbody tr th:only-of-type {\n",
       "        vertical-align: middle;\n",
       "    }\n",
       "\n",
       "    .dataframe tbody tr th {\n",
       "        vertical-align: top;\n",
       "    }\n",
       "\n",
       "    .dataframe thead th {\n",
       "        text-align: right;\n",
       "    }\n",
       "</style>\n",
       "<table border=\"1\" class=\"dataframe\">\n",
       "  <thead>\n",
       "    <tr style=\"text-align: right;\">\n",
       "      <th></th>\n",
       "      <th>Zip</th>\n",
       "      <th>Accessories Store</th>\n",
       "      <th>Acupuncturist</th>\n",
       "      <th>Adult Boutique</th>\n",
       "      <th>Afghan Restaurant</th>\n",
       "      <th>African Restaurant</th>\n",
       "      <th>Airport Tram</th>\n",
       "      <th>American Restaurant</th>\n",
       "      <th>Antique Shop</th>\n",
       "      <th>Arcade</th>\n",
       "      <th>...</th>\n",
       "      <th>Video Store</th>\n",
       "      <th>Vietnamese Restaurant</th>\n",
       "      <th>Warehouse Store</th>\n",
       "      <th>Weight Loss Center</th>\n",
       "      <th>Whisky Bar</th>\n",
       "      <th>Wine Bar</th>\n",
       "      <th>Wine Shop</th>\n",
       "      <th>Wings Joint</th>\n",
       "      <th>Women's Store</th>\n",
       "      <th>Yoga Studio</th>\n",
       "    </tr>\n",
       "  </thead>\n",
       "  <tbody>\n",
       "    <tr>\n",
       "      <th>0</th>\n",
       "      <td>10001</td>\n",
       "      <td>0</td>\n",
       "      <td>0</td>\n",
       "      <td>0</td>\n",
       "      <td>0</td>\n",
       "      <td>0</td>\n",
       "      <td>0</td>\n",
       "      <td>0</td>\n",
       "      <td>0</td>\n",
       "      <td>0</td>\n",
       "      <td>...</td>\n",
       "      <td>0</td>\n",
       "      <td>0</td>\n",
       "      <td>0</td>\n",
       "      <td>0</td>\n",
       "      <td>0</td>\n",
       "      <td>0</td>\n",
       "      <td>0</td>\n",
       "      <td>0</td>\n",
       "      <td>0</td>\n",
       "      <td>0</td>\n",
       "    </tr>\n",
       "    <tr>\n",
       "      <th>1</th>\n",
       "      <td>10001</td>\n",
       "      <td>0</td>\n",
       "      <td>0</td>\n",
       "      <td>0</td>\n",
       "      <td>0</td>\n",
       "      <td>0</td>\n",
       "      <td>0</td>\n",
       "      <td>0</td>\n",
       "      <td>0</td>\n",
       "      <td>0</td>\n",
       "      <td>...</td>\n",
       "      <td>0</td>\n",
       "      <td>0</td>\n",
       "      <td>0</td>\n",
       "      <td>0</td>\n",
       "      <td>0</td>\n",
       "      <td>0</td>\n",
       "      <td>0</td>\n",
       "      <td>0</td>\n",
       "      <td>0</td>\n",
       "      <td>0</td>\n",
       "    </tr>\n",
       "    <tr>\n",
       "      <th>2</th>\n",
       "      <td>10001</td>\n",
       "      <td>0</td>\n",
       "      <td>0</td>\n",
       "      <td>0</td>\n",
       "      <td>0</td>\n",
       "      <td>0</td>\n",
       "      <td>0</td>\n",
       "      <td>0</td>\n",
       "      <td>0</td>\n",
       "      <td>0</td>\n",
       "      <td>...</td>\n",
       "      <td>0</td>\n",
       "      <td>0</td>\n",
       "      <td>0</td>\n",
       "      <td>0</td>\n",
       "      <td>0</td>\n",
       "      <td>0</td>\n",
       "      <td>0</td>\n",
       "      <td>0</td>\n",
       "      <td>0</td>\n",
       "      <td>0</td>\n",
       "    </tr>\n",
       "    <tr>\n",
       "      <th>3</th>\n",
       "      <td>10001</td>\n",
       "      <td>0</td>\n",
       "      <td>0</td>\n",
       "      <td>0</td>\n",
       "      <td>0</td>\n",
       "      <td>0</td>\n",
       "      <td>0</td>\n",
       "      <td>0</td>\n",
       "      <td>0</td>\n",
       "      <td>0</td>\n",
       "      <td>...</td>\n",
       "      <td>0</td>\n",
       "      <td>0</td>\n",
       "      <td>0</td>\n",
       "      <td>0</td>\n",
       "      <td>0</td>\n",
       "      <td>0</td>\n",
       "      <td>0</td>\n",
       "      <td>0</td>\n",
       "      <td>0</td>\n",
       "      <td>0</td>\n",
       "    </tr>\n",
       "    <tr>\n",
       "      <th>4</th>\n",
       "      <td>10001</td>\n",
       "      <td>0</td>\n",
       "      <td>0</td>\n",
       "      <td>0</td>\n",
       "      <td>0</td>\n",
       "      <td>0</td>\n",
       "      <td>0</td>\n",
       "      <td>0</td>\n",
       "      <td>0</td>\n",
       "      <td>0</td>\n",
       "      <td>...</td>\n",
       "      <td>0</td>\n",
       "      <td>0</td>\n",
       "      <td>0</td>\n",
       "      <td>0</td>\n",
       "      <td>0</td>\n",
       "      <td>0</td>\n",
       "      <td>0</td>\n",
       "      <td>0</td>\n",
       "      <td>0</td>\n",
       "      <td>0</td>\n",
       "    </tr>\n",
       "  </tbody>\n",
       "</table>\n",
       "<p>5 rows × 377 columns</p>\n",
       "</div>"
      ],
      "text/plain": [
       "     Zip  Accessories Store  Acupuncturist  Adult Boutique  Afghan Restaurant  \\\n",
       "0  10001                  0              0               0                  0   \n",
       "1  10001                  0              0               0                  0   \n",
       "2  10001                  0              0               0                  0   \n",
       "3  10001                  0              0               0                  0   \n",
       "4  10001                  0              0               0                  0   \n",
       "\n",
       "   African Restaurant  Airport Tram  American Restaurant  Antique Shop  \\\n",
       "0                   0             0                    0             0   \n",
       "1                   0             0                    0             0   \n",
       "2                   0             0                    0             0   \n",
       "3                   0             0                    0             0   \n",
       "4                   0             0                    0             0   \n",
       "\n",
       "   Arcade  ...  Video Store  Vietnamese Restaurant  Warehouse Store  \\\n",
       "0       0  ...            0                      0                0   \n",
       "1       0  ...            0                      0                0   \n",
       "2       0  ...            0                      0                0   \n",
       "3       0  ...            0                      0                0   \n",
       "4       0  ...            0                      0                0   \n",
       "\n",
       "   Weight Loss Center  Whisky Bar  Wine Bar  Wine Shop  Wings Joint  \\\n",
       "0                   0           0         0          0            0   \n",
       "1                   0           0         0          0            0   \n",
       "2                   0           0         0          0            0   \n",
       "3                   0           0         0          0            0   \n",
       "4                   0           0         0          0            0   \n",
       "\n",
       "   Women's Store  Yoga Studio  \n",
       "0              0            0  \n",
       "1              0            0  \n",
       "2              0            0  \n",
       "3              0            0  \n",
       "4              0            0  \n",
       "\n",
       "[5 rows x 377 columns]"
      ]
     },
     "execution_count": 1071,
     "metadata": {},
     "output_type": "execute_result"
    }
   ],
   "source": [
    "# One hot encoding\n",
    "df_nyc_onehot = pd.get_dummies(df_nyc_venues[['Venue Category']], prefix=\"\", prefix_sep=\"\")\n",
    "\n",
    "# Add neighborhood column back to dataframe\n",
    "df_nyc_onehot['Zip'] = df_nyc_venues['Zip'] \n",
    "\n",
    "# Move neighborhood column to the first column\n",
    "fixed_columns = [df_nyc_onehot.columns[-1]] + list(df_nyc_onehot.columns[:-1])\n",
    "df_nyc_onehot = df_nyc_onehot[fixed_columns]\n",
    "\n",
    "df_nyc_onehot.head()"
   ]
  },
  {
   "cell_type": "code",
   "execution_count": 1072,
   "metadata": {},
   "outputs": [
    {
     "data": {
      "text/plain": [
       "(5142, 377)"
      ]
     },
     "execution_count": 1072,
     "metadata": {},
     "output_type": "execute_result"
    }
   ],
   "source": [
    "df_nyc_onehot.shape"
   ]
  },
  {
   "cell_type": "code",
   "execution_count": 1081,
   "metadata": {},
   "outputs": [
    {
     "data": {
      "text/html": [
       "<div>\n",
       "<style scoped>\n",
       "    .dataframe tbody tr th:only-of-type {\n",
       "        vertical-align: middle;\n",
       "    }\n",
       "\n",
       "    .dataframe tbody tr th {\n",
       "        vertical-align: top;\n",
       "    }\n",
       "\n",
       "    .dataframe thead th {\n",
       "        text-align: right;\n",
       "    }\n",
       "</style>\n",
       "<table border=\"1\" class=\"dataframe\">\n",
       "  <thead>\n",
       "    <tr style=\"text-align: right;\">\n",
       "      <th></th>\n",
       "      <th>Zip</th>\n",
       "      <th>Accessories Store</th>\n",
       "      <th>Acupuncturist</th>\n",
       "      <th>Adult Boutique</th>\n",
       "      <th>Afghan Restaurant</th>\n",
       "      <th>African Restaurant</th>\n",
       "      <th>Airport Tram</th>\n",
       "      <th>American Restaurant</th>\n",
       "      <th>Antique Shop</th>\n",
       "      <th>Arcade</th>\n",
       "      <th>...</th>\n",
       "      <th>Video Store</th>\n",
       "      <th>Vietnamese Restaurant</th>\n",
       "      <th>Warehouse Store</th>\n",
       "      <th>Weight Loss Center</th>\n",
       "      <th>Whisky Bar</th>\n",
       "      <th>Wine Bar</th>\n",
       "      <th>Wine Shop</th>\n",
       "      <th>Wings Joint</th>\n",
       "      <th>Women's Store</th>\n",
       "      <th>Yoga Studio</th>\n",
       "    </tr>\n",
       "  </thead>\n",
       "  <tbody>\n",
       "    <tr>\n",
       "      <th>0</th>\n",
       "      <td>10001</td>\n",
       "      <td>0.0</td>\n",
       "      <td>0.0</td>\n",
       "      <td>0.0</td>\n",
       "      <td>0.0</td>\n",
       "      <td>0.0</td>\n",
       "      <td>0.0</td>\n",
       "      <td>0.00</td>\n",
       "      <td>0.0</td>\n",
       "      <td>0.0</td>\n",
       "      <td>...</td>\n",
       "      <td>0.0</td>\n",
       "      <td>0.00</td>\n",
       "      <td>0.0</td>\n",
       "      <td>0.0</td>\n",
       "      <td>0.0</td>\n",
       "      <td>0.00</td>\n",
       "      <td>0.00</td>\n",
       "      <td>0.0</td>\n",
       "      <td>0.00</td>\n",
       "      <td>0.00</td>\n",
       "    </tr>\n",
       "    <tr>\n",
       "      <th>1</th>\n",
       "      <td>10002</td>\n",
       "      <td>0.0</td>\n",
       "      <td>0.0</td>\n",
       "      <td>0.0</td>\n",
       "      <td>0.0</td>\n",
       "      <td>0.0</td>\n",
       "      <td>0.0</td>\n",
       "      <td>0.03</td>\n",
       "      <td>0.0</td>\n",
       "      <td>0.0</td>\n",
       "      <td>...</td>\n",
       "      <td>0.0</td>\n",
       "      <td>0.02</td>\n",
       "      <td>0.0</td>\n",
       "      <td>0.0</td>\n",
       "      <td>0.0</td>\n",
       "      <td>0.01</td>\n",
       "      <td>0.00</td>\n",
       "      <td>0.0</td>\n",
       "      <td>0.01</td>\n",
       "      <td>0.00</td>\n",
       "    </tr>\n",
       "    <tr>\n",
       "      <th>2</th>\n",
       "      <td>10004</td>\n",
       "      <td>0.0</td>\n",
       "      <td>0.0</td>\n",
       "      <td>0.0</td>\n",
       "      <td>0.0</td>\n",
       "      <td>0.0</td>\n",
       "      <td>0.0</td>\n",
       "      <td>0.00</td>\n",
       "      <td>0.0</td>\n",
       "      <td>0.0</td>\n",
       "      <td>...</td>\n",
       "      <td>0.0</td>\n",
       "      <td>0.00</td>\n",
       "      <td>0.0</td>\n",
       "      <td>0.0</td>\n",
       "      <td>0.0</td>\n",
       "      <td>0.00</td>\n",
       "      <td>0.00</td>\n",
       "      <td>0.0</td>\n",
       "      <td>0.00</td>\n",
       "      <td>0.00</td>\n",
       "    </tr>\n",
       "    <tr>\n",
       "      <th>3</th>\n",
       "      <td>10005</td>\n",
       "      <td>0.0</td>\n",
       "      <td>0.0</td>\n",
       "      <td>0.0</td>\n",
       "      <td>0.0</td>\n",
       "      <td>0.0</td>\n",
       "      <td>0.0</td>\n",
       "      <td>0.06</td>\n",
       "      <td>0.0</td>\n",
       "      <td>0.0</td>\n",
       "      <td>...</td>\n",
       "      <td>0.0</td>\n",
       "      <td>0.00</td>\n",
       "      <td>0.0</td>\n",
       "      <td>0.0</td>\n",
       "      <td>0.0</td>\n",
       "      <td>0.00</td>\n",
       "      <td>0.01</td>\n",
       "      <td>0.0</td>\n",
       "      <td>0.00</td>\n",
       "      <td>0.01</td>\n",
       "    </tr>\n",
       "    <tr>\n",
       "      <th>4</th>\n",
       "      <td>10006</td>\n",
       "      <td>0.0</td>\n",
       "      <td>0.0</td>\n",
       "      <td>0.0</td>\n",
       "      <td>0.0</td>\n",
       "      <td>0.0</td>\n",
       "      <td>0.0</td>\n",
       "      <td>0.02</td>\n",
       "      <td>0.0</td>\n",
       "      <td>0.0</td>\n",
       "      <td>...</td>\n",
       "      <td>0.0</td>\n",
       "      <td>0.00</td>\n",
       "      <td>0.0</td>\n",
       "      <td>0.0</td>\n",
       "      <td>0.0</td>\n",
       "      <td>0.00</td>\n",
       "      <td>0.03</td>\n",
       "      <td>0.0</td>\n",
       "      <td>0.01</td>\n",
       "      <td>0.00</td>\n",
       "    </tr>\n",
       "  </tbody>\n",
       "</table>\n",
       "<p>5 rows × 377 columns</p>\n",
       "</div>"
      ],
      "text/plain": [
       "     Zip  Accessories Store  Acupuncturist  Adult Boutique  Afghan Restaurant  \\\n",
       "0  10001                0.0            0.0             0.0                0.0   \n",
       "1  10002                0.0            0.0             0.0                0.0   \n",
       "2  10004                0.0            0.0             0.0                0.0   \n",
       "3  10005                0.0            0.0             0.0                0.0   \n",
       "4  10006                0.0            0.0             0.0                0.0   \n",
       "\n",
       "   African Restaurant  Airport Tram  American Restaurant  Antique Shop  \\\n",
       "0                 0.0           0.0                 0.00           0.0   \n",
       "1                 0.0           0.0                 0.03           0.0   \n",
       "2                 0.0           0.0                 0.00           0.0   \n",
       "3                 0.0           0.0                 0.06           0.0   \n",
       "4                 0.0           0.0                 0.02           0.0   \n",
       "\n",
       "   Arcade  ...  Video Store  Vietnamese Restaurant  Warehouse Store  \\\n",
       "0     0.0  ...          0.0                   0.00              0.0   \n",
       "1     0.0  ...          0.0                   0.02              0.0   \n",
       "2     0.0  ...          0.0                   0.00              0.0   \n",
       "3     0.0  ...          0.0                   0.00              0.0   \n",
       "4     0.0  ...          0.0                   0.00              0.0   \n",
       "\n",
       "   Weight Loss Center  Whisky Bar  Wine Bar  Wine Shop  Wings Joint  \\\n",
       "0                 0.0         0.0      0.00       0.00          0.0   \n",
       "1                 0.0         0.0      0.01       0.00          0.0   \n",
       "2                 0.0         0.0      0.00       0.00          0.0   \n",
       "3                 0.0         0.0      0.00       0.01          0.0   \n",
       "4                 0.0         0.0      0.00       0.03          0.0   \n",
       "\n",
       "   Women's Store  Yoga Studio  \n",
       "0           0.00         0.00  \n",
       "1           0.01         0.00  \n",
       "2           0.00         0.00  \n",
       "3           0.00         0.01  \n",
       "4           0.01         0.00  \n",
       "\n",
       "[5 rows x 377 columns]"
      ]
     },
     "execution_count": 1081,
     "metadata": {},
     "output_type": "execute_result"
    }
   ],
   "source": [
    "df_nyc_grouped = df_nyc_onehot.groupby('Zip').mean().reset_index()\n",
    "df_nyc_grouped.head()"
   ]
  },
  {
   "cell_type": "code",
   "execution_count": 1082,
   "metadata": {},
   "outputs": [
    {
     "data": {
      "text/plain": [
       "(128, 377)"
      ]
     },
     "execution_count": 1082,
     "metadata": {},
     "output_type": "execute_result"
    }
   ],
   "source": [
    "df_nyc_grouped.shape"
   ]
  },
  {
   "cell_type": "markdown",
   "metadata": {},
   "source": [
    "# Creating analysis data set "
   ]
  },
  {
   "cell_type": "code",
   "execution_count": 1083,
   "metadata": {},
   "outputs": [
    {
     "data": {
      "text/html": [
       "<div>\n",
       "<style scoped>\n",
       "    .dataframe tbody tr th:only-of-type {\n",
       "        vertical-align: middle;\n",
       "    }\n",
       "\n",
       "    .dataframe tbody tr th {\n",
       "        vertical-align: top;\n",
       "    }\n",
       "\n",
       "    .dataframe thead th {\n",
       "        text-align: right;\n",
       "    }\n",
       "</style>\n",
       "<table border=\"1\" class=\"dataframe\">\n",
       "  <thead>\n",
       "    <tr style=\"text-align: right;\">\n",
       "      <th></th>\n",
       "      <th>Price</th>\n",
       "      <th>Rent</th>\n",
       "      <th>Accessories Store</th>\n",
       "      <th>Acupuncturist</th>\n",
       "      <th>Adult Boutique</th>\n",
       "      <th>Afghan Restaurant</th>\n",
       "      <th>African Restaurant</th>\n",
       "      <th>Airport Tram</th>\n",
       "      <th>American Restaurant</th>\n",
       "      <th>Antique Shop</th>\n",
       "      <th>...</th>\n",
       "      <th>Video Store</th>\n",
       "      <th>Vietnamese Restaurant</th>\n",
       "      <th>Warehouse Store</th>\n",
       "      <th>Weight Loss Center</th>\n",
       "      <th>Whisky Bar</th>\n",
       "      <th>Wine Bar</th>\n",
       "      <th>Wine Shop</th>\n",
       "      <th>Wings Joint</th>\n",
       "      <th>Women's Store</th>\n",
       "      <th>Yoga Studio</th>\n",
       "    </tr>\n",
       "  </thead>\n",
       "  <tbody>\n",
       "    <tr>\n",
       "      <th>0</th>\n",
       "      <td>1274766.0</td>\n",
       "      <td>3667.0</td>\n",
       "      <td>0.0</td>\n",
       "      <td>0.0</td>\n",
       "      <td>0.0</td>\n",
       "      <td>0.0</td>\n",
       "      <td>0.0</td>\n",
       "      <td>0.0</td>\n",
       "      <td>0.00</td>\n",
       "      <td>0.0</td>\n",
       "      <td>...</td>\n",
       "      <td>0.0</td>\n",
       "      <td>0.00</td>\n",
       "      <td>0.0</td>\n",
       "      <td>0.0</td>\n",
       "      <td>0.0</td>\n",
       "      <td>0.00</td>\n",
       "      <td>0.0</td>\n",
       "      <td>0.0</td>\n",
       "      <td>0.00</td>\n",
       "      <td>0.0</td>\n",
       "    </tr>\n",
       "    <tr>\n",
       "      <th>1</th>\n",
       "      <td>1103197.0</td>\n",
       "      <td>3759.0</td>\n",
       "      <td>0.0</td>\n",
       "      <td>0.0</td>\n",
       "      <td>0.0</td>\n",
       "      <td>0.0</td>\n",
       "      <td>0.0</td>\n",
       "      <td>0.0</td>\n",
       "      <td>0.03</td>\n",
       "      <td>0.0</td>\n",
       "      <td>...</td>\n",
       "      <td>0.0</td>\n",
       "      <td>0.02</td>\n",
       "      <td>0.0</td>\n",
       "      <td>0.0</td>\n",
       "      <td>0.0</td>\n",
       "      <td>0.01</td>\n",
       "      <td>0.0</td>\n",
       "      <td>0.0</td>\n",
       "      <td>0.01</td>\n",
       "      <td>0.0</td>\n",
       "    </tr>\n",
       "  </tbody>\n",
       "</table>\n",
       "<p>2 rows × 378 columns</p>\n",
       "</div>"
      ],
      "text/plain": [
       "       Price    Rent  Accessories Store  Acupuncturist  Adult Boutique  \\\n",
       "0  1274766.0  3667.0                0.0            0.0             0.0   \n",
       "1  1103197.0  3759.0                0.0            0.0             0.0   \n",
       "\n",
       "   Afghan Restaurant  African Restaurant  Airport Tram  American Restaurant  \\\n",
       "0                0.0                 0.0           0.0                 0.00   \n",
       "1                0.0                 0.0           0.0                 0.03   \n",
       "\n",
       "   Antique Shop  ...  Video Store  Vietnamese Restaurant  Warehouse Store  \\\n",
       "0           0.0  ...          0.0                   0.00              0.0   \n",
       "1           0.0  ...          0.0                   0.02              0.0   \n",
       "\n",
       "   Weight Loss Center  Whisky Bar  Wine Bar  Wine Shop  Wings Joint  \\\n",
       "0                 0.0         0.0      0.00        0.0          0.0   \n",
       "1                 0.0         0.0      0.01        0.0          0.0   \n",
       "\n",
       "   Women's Store  Yoga Studio  \n",
       "0           0.00          0.0  \n",
       "1           0.01          0.0  \n",
       "\n",
       "[2 rows x 378 columns]"
      ]
     },
     "execution_count": 1083,
     "metadata": {},
     "output_type": "execute_result"
    }
   ],
   "source": [
    "df_analysis_dataset = df_nyc_prices_rents.merge(df_nyc_grouped, left_on='Zipcode', right_on='Zip')\n",
    "df_analysis_dataset.drop(['Zipcode', 'Borough', 'LAT', 'LNG', 'Zip'], axis=1, inplace=True)\n",
    "df_analysis_dataset.head(2)"
   ]
  },
  {
   "cell_type": "code",
   "execution_count": 1084,
   "metadata": {},
   "outputs": [],
   "source": [
    "# Assign target columns\n",
    "y_price = df_analysis_dataset['Price']\n",
    "y_rent = df_analysis_dataset['Rent']\n",
    "\n",
    "# And remove target from the data set\n",
    "df_analysis_dataset.drop(['Price', 'Rent'], axis=1, inplace=True)"
   ]
  },
  {
   "cell_type": "code",
   "execution_count": 1085,
   "metadata": {},
   "outputs": [
    {
     "name": "stdout",
     "output_type": "stream",
     "text": [
      "Target y for price: (128,)  and for rent  (128,)  --   Features X  (128, 376)\n"
     ]
    }
   ],
   "source": [
    "# Assign features (predictors)\n",
    "X = df_analysis_dataset\n",
    "\n",
    "# Saving feature names for later use\n",
    "feature_list = list(X.columns)\n",
    "\n",
    "# Check shapes of target and predictors\n",
    "print(\"Target y for price:\", y_price.shape, \" and for rent \", y_rent.shape, \" --   Features X \", X.shape)"
   ]
  },
  {
   "cell_type": "markdown",
   "metadata": {},
   "source": [
    "# Random forest of regression trees"
   ]
  },
  {
   "cell_type": "code",
   "execution_count": 1086,
   "metadata": {},
   "outputs": [],
   "source": [
    "def run_random_forests(title, X_features, y_target, size, depth, n_runs, seed):\n",
    "    \n",
    "    # Split the data into training and testing using sie parameter\n",
    "    X_train, X_test, y_train, y_test = train_test_split(X_features, y_target, test_size = size, random_state = seed)\n",
    "    \n",
    "    # Create and fit regression object \n",
    "    rf_regression = RandomForestRegressor(max_depth=depth, n_estimators=n_runs, random_state=seed)\n",
    "    rf_regression.fit(X_train, y_train)\n",
    "    \n",
    "    # Use regression to make prediction y_hat for checking againg testing data from the split\n",
    "    y_hat = rf_regression.predict(X_test)\n",
    "    print(\"Performance measures for\", title, \"model\")\n",
    "    print(\"R2 score: \", round(r2_score(y_test, y_hat), 2))\n",
    "    print(\"Explained variance: \", round(explained_variance_score(y_test, y_hat), 2))\n",
    "    print(\"Mean absolute error:\" , round((np.mean(np.abs((y_test - y_hat) / y_test))), 2))\n",
    "    print(\"On average predictions are off by\" , round(mean_absolute_error(y_test, y_hat), 0), \"$\") \n",
    "    \n",
    "    # Call functions to plot features and update tree png file\n",
    "    plot_feature_importance(title, rf_regression)\n",
    "    #update_tree_png(title, rf_regression)\n",
    "    \n",
    "def plot_features_importance(title, rf_regression):\n",
    "    \n",
    "    # Get numerical feature importances\n",
    "    importances = list(rf_regression.feature_importances_)\n",
    "    \n",
    "    # List of tuples with variable and importance\n",
    "    feature_importances = [(feature, round(importance, 2)) \n",
    "                       for feature, importance in zip(feature_list, importances)]\n",
    "   \n",
    "    # Sort the feature importances by most important first\n",
    "    feature_importances = sorted(feature_importances, key = lambda x: x[1], reverse = True)\n",
    "    x_val = [x[0] for x in feature_importances[0:10]]\n",
    "    y_val = [x[1] for x in feature_importances[0:10]]\n",
    "    plt.barh(x_val, y_val, edgecolor='black')\n",
    "    plt.title('Top 10 features for explaining {}:'.format(title))\n",
    "    plt.show()\n",
    "    \n",
    "def update_tree_png(title, rf_regression):\n",
    "    \n",
    "    # Pull out one tree from the forest\n",
    "    tree = rf_regression.estimators_[5]\n",
    "    \n",
    "    # Export the image to a dot file\n",
    "    export_graphviz(tree, out_file = title + '_tree.dot', feature_names = feature_list, rounded = True, precision = 1)\n",
    "    \n",
    "    # Use dot file to create a graph\n",
    "    (graph, ) = pydot.graph_from_dot_file(title + '_tree.dot')\n",
    "    \n",
    "    # Write graph to a png file\n",
    "    graph.write_png(title + '_tree.png')"
   ]
  },
  {
   "cell_type": "markdown",
   "metadata": {},
   "source": [
    "### Testing performance of price model"
   ]
  },
  {
   "cell_type": "code",
   "execution_count": 1087,
   "metadata": {},
   "outputs": [
    {
     "name": "stdout",
     "output_type": "stream",
     "text": [
      "Performance measures for price model\n",
      "R2 score:  0.73\n",
      "Explained variance:  0.73\n",
      "Mean absolute error: 0.21\n",
      "On average predictions are off by 106823.0 $\n"
     ]
    },
    {
     "data": {
      "image/png": "[encoded data removed]",
      "text/plain": [
       "<Figure size 432x288 with 1 Axes>"
      ]
     },
     "metadata": {
      "needs_background": "light"
     },
     "output_type": "display_data"
    }
   ],
   "source": [
    "run_random_forests(\"price\", X, y_price, 0.2, 3, 10000, 0)"
   ]
  },
  {
   "cell_type": "markdown",
   "metadata": {},
   "source": [
    "### Testing performance of rent model"
   ]
  },
  {
   "cell_type": "code",
   "execution_count": 1088,
   "metadata": {},
   "outputs": [
    {
     "name": "stdout",
     "output_type": "stream",
     "text": [
      "Performance measures for rent model\n",
      "R2 score:  0.6\n",
      "Explained variance:  0.61\n",
      "Mean absolute error: 0.1\n",
      "On average predictions are off by 260.0 $\n"
     ]
    },
    {
     "data": {
      "image/png": "[encoded data removed]",
      "text/plain": [
       "<Figure size 432x288 with 1 Axes>"
      ]
     },
     "metadata": {
      "needs_background": "light"
     },
     "output_type": "display_data"
    }
   ],
   "source": [
    "run_random_forests(\"rent\", X, y_rent, 0.2, 3, 10000, 0)"
   ]
  },
  {
   "cell_type": "markdown",
   "metadata": {},
   "source": [
    "Two random forest regression models were developed for targets “Price” and “Rent”. Models were trained and tested on 80/20 split of original 128 zip codes. Overall 10,000 random estimations were performed with a maximum depth of three for both regressions. Performance was assessed based on R-squared and explained variance. Moreover, mean absolute error was used to calculate the dollar value of expected error. Price predictions seem to be a little better, but noteworthy is that both models have very similar important features. As shown below, presence of nearby “Gym / Fitness Center” explains easily from 20% to 30% of home value. This dominant feature is followed by “Coffee Shop”, “Wine Shop”, “Cocktail Bar” , “French” or “American Restaurant”. Interestingly, that “Cycle Studio” and “Bank” also appears in both models, but “Music Venue” seems to be more important for predicting “Price” rather than “Rent”. \n",
    "\n",
    "From the findings of this study it appears that urban residents do put a lot of value on having fitness venues in close proximity. Moreover, coffee and dining options are important as well. Generally speaking, buyers are willing to pay a premium for desirable exogenous features and thus home values increase as more or better features are added. Consequently, as more of such features are eliminated, value will go down. Prolonged shutdowns of local fitness or dining venues will likely negatively affect the value of residential properties. Having identified promising features, allows utilizing least squares regression that can produce slope coefficients so that the exact dollar value of change in feature can be computed."
   ]
  },
  {
   "cell_type": "markdown",
   "metadata": {},
   "source": [
    "# Note on Trees..."
   ]
  },
  {
   "cell_type": "markdown",
   "metadata": {},
   "source": [
    "Multiple trees can be combined in ensemble for better predicting power. For example, it is expected that the first split may be on a venue such as coffee shop, second split may be on grocery stores or restaurants, following splits may be on parks, gyms, doctor or business offices. Tree-based algorithms seem to be preferred choice for this task, as they should be able to provide feature importance measure based on amount of post-split regression RSS decrease. Important, that one does not have to make any initial assumptions regarding venues importance. Moreover, although not always perfect, trees have good interpretability. They are easy to explain and mimic human decision-making. Finally, trees can be displayed graphically and can easily handle numerous features without scaling predictors. Below is an example of one of the trees that was developed in random forest price regression, technique of averaging predictions of multiple trees grown by randomly dropping features.\n",
    "\n",
    "![\"Rents explained\"](\"https://github.com/allaccountstaken/predicting_urban_home_values/blob/master/Trees/rent_tree.png\")\n",
    "\n",
    "Interpretation of this particular tree is very straightforward. The first split occurred for feature “Gym / Fitness Center” at the root of the tree for 64 samples with average price of $508,714. Properties that did not have gym are coded “False” and are further split on presence of “Grocery Store”. Similarly, those with “True” in the first node, are split on “Cocktail Bar”. Important, this is just on of possible trees in the random forest and overall feature importance is only assessed once all the trees are averaged. Below is an example of tree from rent regression that follows exactly the same logic. In this case, “value” refers to the average monthly rent associated with a specific zip code. \n",
    "\n",
    "![\"Prices explained\"](\"https://github.com/allaccountstaken/predicting_urban_home_values/blob/master/Trees/price_tree.png\")\n"
   ]
  },
  {
   "cell_type": "code",
   "execution_count": null,
   "metadata": {},
   "outputs": [],
   "source": []
  }
 ],
 "metadata": {
  "kernelspec": {
   "display_name": "Python 3",
   "language": "python",
   "name": "python3"
  },
  "language_info": {
   "codemirror_mode": {
    "name": "ipython",
    "version": 3
   },
   "file_extension": ".py",
   "mimetype": "text/x-python",
   "name": "python",
   "nbconvert_exporter": "python",
   "pygments_lexer": "ipython3",
   "version": "3.8.3"
  }
 },
 "nbformat": 4,
 "nbformat_minor": 2
}
