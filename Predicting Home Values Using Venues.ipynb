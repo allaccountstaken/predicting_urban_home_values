{
 "cells": [
  {
   "cell_type": "code",
   "execution_count": 157,
   "metadata": {},
   "outputs": [],
   "source": [
    "import pandas as pd\n",
    "import numpy as np\n",
    "import seaborn as sns\n",
    "import matplotlib.pyplot as plt\n",
    "import matplotlib\n",
    "\n",
    "matplotlib.style.use('ggplot')\n",
    "sns.set(rc={'figure.figsize':(20,8.27)})\n",
    "%matplotlib inline"
   ]
  },
  {
   "cell_type": "markdown",
   "metadata": {},
   "source": [
    "## Define sample \n",
    "For this we need to find the list of New York city zip codes"
   ]
  },
  {
   "cell_type": "code",
   "execution_count": 69,
   "metadata": {},
   "outputs": [
    {
     "data": {
      "text/html": [
       "<div>\n",
       "<style scoped>\n",
       "    .dataframe tbody tr th:only-of-type {\n",
       "        vertical-align: middle;\n",
       "    }\n",
       "\n",
       "    .dataframe tbody tr th {\n",
       "        vertical-align: top;\n",
       "    }\n",
       "\n",
       "    .dataframe thead th {\n",
       "        text-align: right;\n",
       "    }\n",
       "</style>\n",
       "<table border=\"1\" class=\"dataframe\">\n",
       "  <thead>\n",
       "    <tr style=\"text-align: right;\">\n",
       "      <th></th>\n",
       "      <th>zip</th>\n",
       "      <th>borough</th>\n",
       "    </tr>\n",
       "  </thead>\n",
       "  <tbody>\n",
       "    <tr>\n",
       "      <th>0</th>\n",
       "      <td>10001</td>\n",
       "      <td>Manhattan</td>\n",
       "    </tr>\n",
       "    <tr>\n",
       "      <th>1</th>\n",
       "      <td>10002</td>\n",
       "      <td>Manhattan</td>\n",
       "    </tr>\n",
       "    <tr>\n",
       "      <th>2</th>\n",
       "      <td>10003</td>\n",
       "      <td>Manhattan</td>\n",
       "    </tr>\n",
       "    <tr>\n",
       "      <th>3</th>\n",
       "      <td>10004</td>\n",
       "      <td>Manhattan</td>\n",
       "    </tr>\n",
       "    <tr>\n",
       "      <th>4</th>\n",
       "      <td>10005</td>\n",
       "      <td>Manhattan</td>\n",
       "    </tr>\n",
       "  </tbody>\n",
       "</table>\n",
       "</div>"
      ],
      "text/plain": [
       "     zip    borough\n",
       "0  10001  Manhattan\n",
       "1  10002  Manhattan\n",
       "2  10003  Manhattan\n",
       "3  10004  Manhattan\n",
       "4  10005  Manhattan"
      ]
     },
     "execution_count": 69,
     "metadata": {},
     "output_type": "execute_result"
    }
   ],
   "source": [
    "# Source https://worldpostalcode.com/united-states/new-york/new-york-city \n",
    "# retrieved on 05/28/2020\n",
    "df_zipcodes = pd.read_csv('nyc_boroughs.csv', index_col = 0)\n",
    "df_zipcodes.head()"
   ]
  },
  {
   "cell_type": "markdown",
   "metadata": {},
   "source": [
    "This looks like a good sample of zip codes that can be used for the analysis"
   ]
  },
  {
   "cell_type": "code",
   "execution_count": 70,
   "metadata": {},
   "outputs": [
    {
     "data": {
      "text/html": [
       "<div>\n",
       "<style scoped>\n",
       "    .dataframe tbody tr th:only-of-type {\n",
       "        vertical-align: middle;\n",
       "    }\n",
       "\n",
       "    .dataframe tbody tr th {\n",
       "        vertical-align: top;\n",
       "    }\n",
       "\n",
       "    .dataframe thead th {\n",
       "        text-align: right;\n",
       "    }\n",
       "</style>\n",
       "<table border=\"1\" class=\"dataframe\">\n",
       "  <thead>\n",
       "    <tr style=\"text-align: right;\">\n",
       "      <th></th>\n",
       "      <th>zip</th>\n",
       "    </tr>\n",
       "    <tr>\n",
       "      <th>borough</th>\n",
       "      <th></th>\n",
       "    </tr>\n",
       "  </thead>\n",
       "  <tbody>\n",
       "    <tr>\n",
       "      <th>Bronx</th>\n",
       "      <td>50</td>\n",
       "    </tr>\n",
       "    <tr>\n",
       "      <th>Brooklyn</th>\n",
       "      <td>86</td>\n",
       "    </tr>\n",
       "    <tr>\n",
       "      <th>Manhattan</th>\n",
       "      <td>192</td>\n",
       "    </tr>\n",
       "    <tr>\n",
       "      <th>Queens</th>\n",
       "      <td>126</td>\n",
       "    </tr>\n",
       "    <tr>\n",
       "      <th>Staten</th>\n",
       "      <td>26</td>\n",
       "    </tr>\n",
       "  </tbody>\n",
       "</table>\n",
       "</div>"
      ],
      "text/plain": [
       "           zip\n",
       "borough       \n",
       "Bronx       50\n",
       "Brooklyn    86\n",
       "Manhattan  192\n",
       "Queens     126\n",
       "Staten      26"
      ]
     },
     "execution_count": 70,
     "metadata": {},
     "output_type": "execute_result"
    }
   ],
   "source": [
    "df_zipcodes.groupby('borough').count()"
   ]
  },
  {
   "cell_type": "code",
   "execution_count": 82,
   "metadata": {},
   "outputs": [
    {
     "data": {
      "text/plain": [
       "(480, 2)"
      ]
     },
     "execution_count": 82,
     "metadata": {},
     "output_type": "execute_result"
    }
   ],
   "source": [
    "df_zipcodes.shape"
   ]
  },
  {
   "cell_type": "markdown",
   "metadata": {},
   "source": [
    "#### Feature 1 - condo prices\n",
    "Use the list of sample zip codes to get good price estimates, in my case, latest estimates of 2-bedroom condo units"
   ]
  },
  {
   "cell_type": "code",
   "execution_count": 71,
   "metadata": {},
   "outputs": [],
   "source": [
    "# Source: https://www.zillow.com/research/data/\n",
    "# retrieved on 05-18-2020\n",
    "df_prices = pd.read_csv('condo_prices.csv', index_col=0)"
   ]
  },
  {
   "cell_type": "code",
   "execution_count": 72,
   "metadata": {},
   "outputs": [
    {
     "data": {
      "text/plain": [
       "(10939, 299)"
      ]
     },
     "execution_count": 72,
     "metadata": {},
     "output_type": "execute_result"
    }
   ],
   "source": [
    "# This data set contains zillow estimates for the entire nation\n",
    "df_prices.shape"
   ]
  },
  {
   "cell_type": "code",
   "execution_count": 77,
   "metadata": {},
   "outputs": [
    {
     "data": {
      "text/html": [
       "<div>\n",
       "<style scoped>\n",
       "    .dataframe tbody tr th:only-of-type {\n",
       "        vertical-align: middle;\n",
       "    }\n",
       "\n",
       "    .dataframe tbody tr th {\n",
       "        vertical-align: top;\n",
       "    }\n",
       "\n",
       "    .dataframe thead th {\n",
       "        text-align: right;\n",
       "    }\n",
       "</style>\n",
       "<table border=\"1\" class=\"dataframe\">\n",
       "  <thead>\n",
       "    <tr style=\"text-align: right;\">\n",
       "      <th></th>\n",
       "      <th>SizeRank</th>\n",
       "      <th>RegionName</th>\n",
       "      <th>RegionType</th>\n",
       "      <th>StateName</th>\n",
       "      <th>State</th>\n",
       "      <th>City</th>\n",
       "      <th>Metro</th>\n",
       "      <th>CountyName</th>\n",
       "      <th>1996-01-31</th>\n",
       "      <th>1996-02-29</th>\n",
       "      <th>...</th>\n",
       "      <th>2019-06-30</th>\n",
       "      <th>2019-07-31</th>\n",
       "      <th>2019-08-31</th>\n",
       "      <th>2019-09-30</th>\n",
       "      <th>2019-10-31</th>\n",
       "      <th>2019-11-30</th>\n",
       "      <th>2019-12-31</th>\n",
       "      <th>2020-01-31</th>\n",
       "      <th>2020-02-29</th>\n",
       "      <th>2020-03-31</th>\n",
       "    </tr>\n",
       "    <tr>\n",
       "      <th>RegionID</th>\n",
       "      <th></th>\n",
       "      <th></th>\n",
       "      <th></th>\n",
       "      <th></th>\n",
       "      <th></th>\n",
       "      <th></th>\n",
       "      <th></th>\n",
       "      <th></th>\n",
       "      <th></th>\n",
       "      <th></th>\n",
       "      <th></th>\n",
       "      <th></th>\n",
       "      <th></th>\n",
       "      <th></th>\n",
       "      <th></th>\n",
       "      <th></th>\n",
       "      <th></th>\n",
       "      <th></th>\n",
       "      <th></th>\n",
       "      <th></th>\n",
       "      <th></th>\n",
       "    </tr>\n",
       "  </thead>\n",
       "  <tbody>\n",
       "    <tr>\n",
       "      <th>61639</th>\n",
       "      <td>0</td>\n",
       "      <td>10025</td>\n",
       "      <td>Zip</td>\n",
       "      <td>NY</td>\n",
       "      <td>NY</td>\n",
       "      <td>New York</td>\n",
       "      <td>New York-Newark-Jersey City</td>\n",
       "      <td>New York County</td>\n",
       "      <td>215591.0</td>\n",
       "      <td>214255.0</td>\n",
       "      <td>...</td>\n",
       "      <td>1249908.0</td>\n",
       "      <td>1239499.0</td>\n",
       "      <td>1219219.0</td>\n",
       "      <td>1203053.0</td>\n",
       "      <td>1188642.0</td>\n",
       "      <td>1182534.0</td>\n",
       "      <td>1175894.0</td>\n",
       "      <td>1153407.0</td>\n",
       "      <td>1123011.0</td>\n",
       "      <td>1085220.0</td>\n",
       "    </tr>\n",
       "    <tr>\n",
       "      <th>84654</th>\n",
       "      <td>1</td>\n",
       "      <td>60657</td>\n",
       "      <td>Zip</td>\n",
       "      <td>IL</td>\n",
       "      <td>IL</td>\n",
       "      <td>Chicago</td>\n",
       "      <td>Chicago-Naperville-Elgin</td>\n",
       "      <td>Cook County</td>\n",
       "      <td>194597.0</td>\n",
       "      <td>194456.0</td>\n",
       "      <td>...</td>\n",
       "      <td>403689.0</td>\n",
       "      <td>403756.0</td>\n",
       "      <td>403181.0</td>\n",
       "      <td>402122.0</td>\n",
       "      <td>401073.0</td>\n",
       "      <td>400025.0</td>\n",
       "      <td>399451.0</td>\n",
       "      <td>399424.0</td>\n",
       "      <td>400541.0</td>\n",
       "      <td>402007.0</td>\n",
       "    </tr>\n",
       "    <tr>\n",
       "      <th>61637</th>\n",
       "      <td>2</td>\n",
       "      <td>10023</td>\n",
       "      <td>Zip</td>\n",
       "      <td>NY</td>\n",
       "      <td>NY</td>\n",
       "      <td>New York</td>\n",
       "      <td>New York-Newark-Jersey City</td>\n",
       "      <td>New York County</td>\n",
       "      <td>270200.0</td>\n",
       "      <td>270272.0</td>\n",
       "      <td>...</td>\n",
       "      <td>1196262.0</td>\n",
       "      <td>1193635.0</td>\n",
       "      <td>1185743.0</td>\n",
       "      <td>1169593.0</td>\n",
       "      <td>1159431.0</td>\n",
       "      <td>1162100.0</td>\n",
       "      <td>1182107.0</td>\n",
       "      <td>1202722.0</td>\n",
       "      <td>1216983.0</td>\n",
       "      <td>1218097.0</td>\n",
       "    </tr>\n",
       "    <tr>\n",
       "      <th>91982</th>\n",
       "      <td>3</td>\n",
       "      <td>77494</td>\n",
       "      <td>Zip</td>\n",
       "      <td>TX</td>\n",
       "      <td>TX</td>\n",
       "      <td>Katy</td>\n",
       "      <td>Houston-The Woodlands-Sugar Land</td>\n",
       "      <td>Harris County</td>\n",
       "      <td>NaN</td>\n",
       "      <td>NaN</td>\n",
       "      <td>...</td>\n",
       "      <td>201988.0</td>\n",
       "      <td>202900.0</td>\n",
       "      <td>203401.0</td>\n",
       "      <td>203926.0</td>\n",
       "      <td>204387.0</td>\n",
       "      <td>204812.0</td>\n",
       "      <td>204325.0</td>\n",
       "      <td>203251.0</td>\n",
       "      <td>202182.0</td>\n",
       "      <td>201069.0</td>\n",
       "    </tr>\n",
       "    <tr>\n",
       "      <th>84616</th>\n",
       "      <td>4</td>\n",
       "      <td>60614</td>\n",
       "      <td>Zip</td>\n",
       "      <td>IL</td>\n",
       "      <td>IL</td>\n",
       "      <td>Chicago</td>\n",
       "      <td>Chicago-Naperville-Elgin</td>\n",
       "      <td>Cook County</td>\n",
       "      <td>195233.0</td>\n",
       "      <td>195317.0</td>\n",
       "      <td>...</td>\n",
       "      <td>449199.0</td>\n",
       "      <td>449311.0</td>\n",
       "      <td>448826.0</td>\n",
       "      <td>447771.0</td>\n",
       "      <td>446923.0</td>\n",
       "      <td>445917.0</td>\n",
       "      <td>445015.0</td>\n",
       "      <td>444873.0</td>\n",
       "      <td>445419.0</td>\n",
       "      <td>446479.0</td>\n",
       "    </tr>\n",
       "  </tbody>\n",
       "</table>\n",
       "<p>5 rows × 299 columns</p>\n",
       "</div>"
      ],
      "text/plain": [
       "          SizeRank  RegionName RegionType StateName State      City  \\\n",
       "RegionID                                                              \n",
       "61639            0       10025        Zip        NY    NY  New York   \n",
       "84654            1       60657        Zip        IL    IL   Chicago   \n",
       "61637            2       10023        Zip        NY    NY  New York   \n",
       "91982            3       77494        Zip        TX    TX      Katy   \n",
       "84616            4       60614        Zip        IL    IL   Chicago   \n",
       "\n",
       "                                     Metro       CountyName  1996-01-31  \\\n",
       "RegionID                                                                  \n",
       "61639          New York-Newark-Jersey City  New York County    215591.0   \n",
       "84654             Chicago-Naperville-Elgin      Cook County    194597.0   \n",
       "61637          New York-Newark-Jersey City  New York County    270200.0   \n",
       "91982     Houston-The Woodlands-Sugar Land    Harris County         NaN   \n",
       "84616             Chicago-Naperville-Elgin      Cook County    195233.0   \n",
       "\n",
       "          1996-02-29  ...  2019-06-30  2019-07-31  2019-08-31  2019-09-30  \\\n",
       "RegionID              ...                                                   \n",
       "61639       214255.0  ...   1249908.0   1239499.0   1219219.0   1203053.0   \n",
       "84654       194456.0  ...    403689.0    403756.0    403181.0    402122.0   \n",
       "61637       270272.0  ...   1196262.0   1193635.0   1185743.0   1169593.0   \n",
       "91982            NaN  ...    201988.0    202900.0    203401.0    203926.0   \n",
       "84616       195317.0  ...    449199.0    449311.0    448826.0    447771.0   \n",
       "\n",
       "          2019-10-31  2019-11-30  2019-12-31  2020-01-31  2020-02-29  \\\n",
       "RegionID                                                               \n",
       "61639      1188642.0   1182534.0   1175894.0   1153407.0   1123011.0   \n",
       "84654       401073.0    400025.0    399451.0    399424.0    400541.0   \n",
       "61637      1159431.0   1162100.0   1182107.0   1202722.0   1216983.0   \n",
       "91982       204387.0    204812.0    204325.0    203251.0    202182.0   \n",
       "84616       446923.0    445917.0    445015.0    444873.0    445419.0   \n",
       "\n",
       "          2020-03-31  \n",
       "RegionID              \n",
       "61639      1085220.0  \n",
       "84654       402007.0  \n",
       "61637      1218097.0  \n",
       "91982       201069.0  \n",
       "84616       446479.0  \n",
       "\n",
       "[5 rows x 299 columns]"
      ]
     },
     "execution_count": 77,
     "metadata": {},
     "output_type": "execute_result"
    }
   ],
   "source": [
    "# Inspect the columns \n",
    "df_prices.head()"
   ]
  },
  {
   "cell_type": "code",
   "execution_count": 81,
   "metadata": {},
   "outputs": [],
   "source": [
    "# Only need relevant price, say 2019-11-30, and RegionName (zipcode), plus Metro for checks\n",
    "df_prices.drop(df_prices.columns.difference(['RegionName','Metro', '2019-11-30']), 1, inplace=True)\n"
   ]
  },
  {
   "cell_type": "code",
   "execution_count": 83,
   "metadata": {},
   "outputs": [
    {
     "data": {
      "text/plain": [
       "(314, 5)"
      ]
     },
     "execution_count": 83,
     "metadata": {},
     "output_type": "execute_result"
    }
   ],
   "source": [
    "df_nyc_prices = df_zipcodes.merge(df_prices, left_on='zip', right_on='RegionName')\n",
    "df_nyc_prices.shape"
   ]
  },
  {
   "cell_type": "markdown",
   "metadata": {},
   "source": [
    "Merged data set has less rows than original zip codes list but thats fine as there might have been some P.O boxes or reserved codes. The new list now has meaningful first feature - price estimate.\n",
    "\n",
    "Check if all observations map to New York city boroughs or if there any unexpected values. Looks fine so far!"
   ]
  },
  {
   "cell_type": "code",
   "execution_count": 87,
   "metadata": {},
   "outputs": [
    {
     "data": {
      "text/html": [
       "<div>\n",
       "<style scoped>\n",
       "    .dataframe tbody tr th:only-of-type {\n",
       "        vertical-align: middle;\n",
       "    }\n",
       "\n",
       "    .dataframe tbody tr th {\n",
       "        vertical-align: top;\n",
       "    }\n",
       "\n",
       "    .dataframe thead th {\n",
       "        text-align: right;\n",
       "    }\n",
       "</style>\n",
       "<table border=\"1\" class=\"dataframe\">\n",
       "  <thead>\n",
       "    <tr style=\"text-align: right;\">\n",
       "      <th></th>\n",
       "      <th>zip</th>\n",
       "      <th>RegionName</th>\n",
       "      <th>Metro</th>\n",
       "      <th>2019-11-30</th>\n",
       "    </tr>\n",
       "    <tr>\n",
       "      <th>borough</th>\n",
       "      <th></th>\n",
       "      <th></th>\n",
       "      <th></th>\n",
       "      <th></th>\n",
       "    </tr>\n",
       "  </thead>\n",
       "  <tbody>\n",
       "    <tr>\n",
       "      <th>Bronx</th>\n",
       "      <td>32</td>\n",
       "      <td>32</td>\n",
       "      <td>32</td>\n",
       "      <td>32</td>\n",
       "    </tr>\n",
       "    <tr>\n",
       "      <th>Brooklyn</th>\n",
       "      <td>76</td>\n",
       "      <td>76</td>\n",
       "      <td>76</td>\n",
       "      <td>76</td>\n",
       "    </tr>\n",
       "    <tr>\n",
       "      <th>Manhattan</th>\n",
       "      <td>82</td>\n",
       "      <td>82</td>\n",
       "      <td>82</td>\n",
       "      <td>82</td>\n",
       "    </tr>\n",
       "    <tr>\n",
       "      <th>Queens</th>\n",
       "      <td>102</td>\n",
       "      <td>102</td>\n",
       "      <td>102</td>\n",
       "      <td>102</td>\n",
       "    </tr>\n",
       "    <tr>\n",
       "      <th>Staten</th>\n",
       "      <td>22</td>\n",
       "      <td>22</td>\n",
       "      <td>22</td>\n",
       "      <td>22</td>\n",
       "    </tr>\n",
       "  </tbody>\n",
       "</table>\n",
       "</div>"
      ],
      "text/plain": [
       "           zip  RegionName  Metro  2019-11-30\n",
       "borough                                      \n",
       "Bronx       32          32     32          32\n",
       "Brooklyn    76          76     76          76\n",
       "Manhattan   82          82     82          82\n",
       "Queens     102         102    102         102\n",
       "Staten      22          22     22          22"
      ]
     },
     "execution_count": 87,
     "metadata": {},
     "output_type": "execute_result"
    }
   ],
   "source": [
    "df_nyc_prices.groupby('borough').count()"
   ]
  },
  {
   "cell_type": "code",
   "execution_count": 92,
   "metadata": {},
   "outputs": [
    {
     "data": {
      "text/plain": [
       "False"
      ]
     },
     "execution_count": 92,
     "metadata": {},
     "output_type": "execute_result"
    }
   ],
   "source": [
    "df_nyc_prices['2019-11-30'].isnull().values.any()"
   ]
  },
  {
   "cell_type": "code",
   "execution_count": 93,
   "metadata": {},
   "outputs": [
    {
     "data": {
      "text/plain": [
       "False"
      ]
     },
     "execution_count": 93,
     "metadata": {},
     "output_type": "execute_result"
    }
   ],
   "source": [
    "df_nyc_prices['2019-11-30'].isna().values.any()"
   ]
  },
  {
   "cell_type": "markdown",
   "metadata": {},
   "source": [
    "Finally, rename the column to 'Price'"
   ]
  },
  {
   "cell_type": "code",
   "execution_count": 95,
   "metadata": {},
   "outputs": [],
   "source": [
    "df_nyc_prices.rename(columns={'2019-11-30':'Price'}, inplace=True)"
   ]
  },
  {
   "cell_type": "code",
   "execution_count": 96,
   "metadata": {},
   "outputs": [
    {
     "data": {
      "text/html": [
       "<div>\n",
       "<style scoped>\n",
       "    .dataframe tbody tr th:only-of-type {\n",
       "        vertical-align: middle;\n",
       "    }\n",
       "\n",
       "    .dataframe tbody tr th {\n",
       "        vertical-align: top;\n",
       "    }\n",
       "\n",
       "    .dataframe thead th {\n",
       "        text-align: right;\n",
       "    }\n",
       "</style>\n",
       "<table border=\"1\" class=\"dataframe\">\n",
       "  <thead>\n",
       "    <tr style=\"text-align: right;\">\n",
       "      <th></th>\n",
       "      <th>zip</th>\n",
       "      <th>borough</th>\n",
       "      <th>RegionName</th>\n",
       "      <th>Metro</th>\n",
       "      <th>Price</th>\n",
       "    </tr>\n",
       "  </thead>\n",
       "  <tbody>\n",
       "    <tr>\n",
       "      <th>0</th>\n",
       "      <td>10001</td>\n",
       "      <td>Manhattan</td>\n",
       "      <td>10001</td>\n",
       "      <td>New York-Newark-Jersey City</td>\n",
       "      <td>1274766.0</td>\n",
       "    </tr>\n",
       "    <tr>\n",
       "      <th>1</th>\n",
       "      <td>10001</td>\n",
       "      <td>Manhattan</td>\n",
       "      <td>10001</td>\n",
       "      <td>New York-Newark-Jersey City</td>\n",
       "      <td>1274766.0</td>\n",
       "    </tr>\n",
       "    <tr>\n",
       "      <th>2</th>\n",
       "      <td>10002</td>\n",
       "      <td>Manhattan</td>\n",
       "      <td>10002</td>\n",
       "      <td>New York-Newark-Jersey City</td>\n",
       "      <td>1103197.0</td>\n",
       "    </tr>\n",
       "    <tr>\n",
       "      <th>3</th>\n",
       "      <td>10002</td>\n",
       "      <td>Manhattan</td>\n",
       "      <td>10002</td>\n",
       "      <td>New York-Newark-Jersey City</td>\n",
       "      <td>1103197.0</td>\n",
       "    </tr>\n",
       "    <tr>\n",
       "      <th>4</th>\n",
       "      <td>10003</td>\n",
       "      <td>Manhattan</td>\n",
       "      <td>10003</td>\n",
       "      <td>New York-Newark-Jersey City</td>\n",
       "      <td>1065001.0</td>\n",
       "    </tr>\n",
       "  </tbody>\n",
       "</table>\n",
       "</div>"
      ],
      "text/plain": [
       "     zip    borough  RegionName                        Metro      Price\n",
       "0  10001  Manhattan       10001  New York-Newark-Jersey City  1274766.0\n",
       "1  10001  Manhattan       10001  New York-Newark-Jersey City  1274766.0\n",
       "2  10002  Manhattan       10002  New York-Newark-Jersey City  1103197.0\n",
       "3  10002  Manhattan       10002  New York-Newark-Jersey City  1103197.0\n",
       "4  10003  Manhattan       10003  New York-Newark-Jersey City  1065001.0"
      ]
     },
     "execution_count": 96,
     "metadata": {},
     "output_type": "execute_result"
    }
   ],
   "source": [
    "df_nyc_prices.head()"
   ]
  },
  {
   "cell_type": "markdown",
   "metadata": {},
   "source": [
    "#### Feature 2 - rental estimates"
   ]
  },
  {
   "cell_type": "code",
   "execution_count": 115,
   "metadata": {},
   "outputs": [],
   "source": [
    "df_rents=pd.read_csv('condo_rentals.csv', index_col = 0)"
   ]
  },
  {
   "cell_type": "code",
   "execution_count": 116,
   "metadata": {},
   "outputs": [
    {
     "data": {
      "text/plain": [
       "(13181, 119)"
      ]
     },
     "execution_count": 116,
     "metadata": {},
     "output_type": "execute_result"
    }
   ],
   "source": [
    "df_rents.shape"
   ]
  },
  {
   "cell_type": "code",
   "execution_count": 117,
   "metadata": {},
   "outputs": [
    {
     "data": {
      "text/html": [
       "<div>\n",
       "<style scoped>\n",
       "    .dataframe tbody tr th:only-of-type {\n",
       "        vertical-align: middle;\n",
       "    }\n",
       "\n",
       "    .dataframe tbody tr th {\n",
       "        vertical-align: top;\n",
       "    }\n",
       "\n",
       "    .dataframe thead th {\n",
       "        text-align: right;\n",
       "    }\n",
       "</style>\n",
       "<table border=\"1\" class=\"dataframe\">\n",
       "  <thead>\n",
       "    <tr style=\"text-align: right;\">\n",
       "      <th></th>\n",
       "      <th>RegionName</th>\n",
       "      <th>City</th>\n",
       "      <th>State</th>\n",
       "      <th>Metro</th>\n",
       "      <th>CountyName</th>\n",
       "      <th>SizeRank</th>\n",
       "      <th>2010-09</th>\n",
       "      <th>2010-10</th>\n",
       "      <th>2010-11</th>\n",
       "      <th>2010-12</th>\n",
       "      <th>...</th>\n",
       "      <th>2019-04</th>\n",
       "      <th>2019-05</th>\n",
       "      <th>2019-06</th>\n",
       "      <th>2019-07</th>\n",
       "      <th>2019-08</th>\n",
       "      <th>2019-09</th>\n",
       "      <th>2019-10</th>\n",
       "      <th>2019-11</th>\n",
       "      <th>2019-12</th>\n",
       "      <th>2020-01</th>\n",
       "    </tr>\n",
       "    <tr>\n",
       "      <th>RegionID</th>\n",
       "      <th></th>\n",
       "      <th></th>\n",
       "      <th></th>\n",
       "      <th></th>\n",
       "      <th></th>\n",
       "      <th></th>\n",
       "      <th></th>\n",
       "      <th></th>\n",
       "      <th></th>\n",
       "      <th></th>\n",
       "      <th></th>\n",
       "      <th></th>\n",
       "      <th></th>\n",
       "      <th></th>\n",
       "      <th></th>\n",
       "      <th></th>\n",
       "      <th></th>\n",
       "      <th></th>\n",
       "      <th></th>\n",
       "      <th></th>\n",
       "      <th></th>\n",
       "    </tr>\n",
       "  </thead>\n",
       "  <tbody>\n",
       "    <tr>\n",
       "      <th>61639</th>\n",
       "      <td>10025</td>\n",
       "      <td>New York</td>\n",
       "      <td>NY</td>\n",
       "      <td>New York-Newark-Jersey City</td>\n",
       "      <td>New York County</td>\n",
       "      <td>1</td>\n",
       "      <td>3031.0</td>\n",
       "      <td>3058.0</td>\n",
       "      <td>3031.0</td>\n",
       "      <td>3015.0</td>\n",
       "      <td>...</td>\n",
       "      <td>3785.0</td>\n",
       "      <td>3788.0</td>\n",
       "      <td>3786.0</td>\n",
       "      <td>3784.0</td>\n",
       "      <td>3766.0</td>\n",
       "      <td>3779.0</td>\n",
       "      <td>3843.0</td>\n",
       "      <td>3873.0</td>\n",
       "      <td>3835.0</td>\n",
       "      <td>NaN</td>\n",
       "    </tr>\n",
       "    <tr>\n",
       "      <th>84654</th>\n",
       "      <td>60657</td>\n",
       "      <td>Chicago</td>\n",
       "      <td>IL</td>\n",
       "      <td>Chicago-Naperville-Elgin</td>\n",
       "      <td>Cook County</td>\n",
       "      <td>2</td>\n",
       "      <td>1790.0</td>\n",
       "      <td>1787.0</td>\n",
       "      <td>1784.0</td>\n",
       "      <td>1774.0</td>\n",
       "      <td>...</td>\n",
       "      <td>2039.0</td>\n",
       "      <td>2070.0</td>\n",
       "      <td>2105.0</td>\n",
       "      <td>2140.0</td>\n",
       "      <td>2168.0</td>\n",
       "      <td>2185.0</td>\n",
       "      <td>2125.0</td>\n",
       "      <td>NaN</td>\n",
       "      <td>2053.0</td>\n",
       "      <td>1996.0</td>\n",
       "    </tr>\n",
       "    <tr>\n",
       "      <th>61637</th>\n",
       "      <td>10023</td>\n",
       "      <td>New York</td>\n",
       "      <td>NY</td>\n",
       "      <td>New York-Newark-Jersey City</td>\n",
       "      <td>New York County</td>\n",
       "      <td>3</td>\n",
       "      <td>3269.0</td>\n",
       "      <td>3304.0</td>\n",
       "      <td>3320.0</td>\n",
       "      <td>3322.0</td>\n",
       "      <td>...</td>\n",
       "      <td>3874.0</td>\n",
       "      <td>3898.0</td>\n",
       "      <td>3917.0</td>\n",
       "      <td>3929.0</td>\n",
       "      <td>3931.0</td>\n",
       "      <td>3963.0</td>\n",
       "      <td>NaN</td>\n",
       "      <td>4123.0</td>\n",
       "      <td>4079.0</td>\n",
       "      <td>NaN</td>\n",
       "    </tr>\n",
       "    <tr>\n",
       "      <th>91982</th>\n",
       "      <td>77494</td>\n",
       "      <td>Katy</td>\n",
       "      <td>TX</td>\n",
       "      <td>Houston-The Woodlands-Sugar Land</td>\n",
       "      <td>Harris County</td>\n",
       "      <td>4</td>\n",
       "      <td>1547.0</td>\n",
       "      <td>1549.0</td>\n",
       "      <td>1560.0</td>\n",
       "      <td>1560.0</td>\n",
       "      <td>...</td>\n",
       "      <td>1765.0</td>\n",
       "      <td>1755.0</td>\n",
       "      <td>1751.0</td>\n",
       "      <td>1752.0</td>\n",
       "      <td>1754.0</td>\n",
       "      <td>1759.0</td>\n",
       "      <td>1764.0</td>\n",
       "      <td>1769.0</td>\n",
       "      <td>1776.0</td>\n",
       "      <td>1778.0</td>\n",
       "    </tr>\n",
       "    <tr>\n",
       "      <th>84616</th>\n",
       "      <td>60614</td>\n",
       "      <td>Chicago</td>\n",
       "      <td>IL</td>\n",
       "      <td>Chicago-Naperville-Elgin</td>\n",
       "      <td>Cook County</td>\n",
       "      <td>5</td>\n",
       "      <td>1922.0</td>\n",
       "      <td>1925.0</td>\n",
       "      <td>1921.0</td>\n",
       "      <td>1908.0</td>\n",
       "      <td>...</td>\n",
       "      <td>2245.0</td>\n",
       "      <td>2289.0</td>\n",
       "      <td>2332.0</td>\n",
       "      <td>2372.0</td>\n",
       "      <td>2398.0</td>\n",
       "      <td>2412.0</td>\n",
       "      <td>2348.0</td>\n",
       "      <td>2356.0</td>\n",
       "      <td>2311.0</td>\n",
       "      <td>NaN</td>\n",
       "    </tr>\n",
       "  </tbody>\n",
       "</table>\n",
       "<p>5 rows × 119 columns</p>\n",
       "</div>"
      ],
      "text/plain": [
       "          RegionName      City State                             Metro  \\\n",
       "RegionID                                                                 \n",
       "61639          10025  New York    NY       New York-Newark-Jersey City   \n",
       "84654          60657   Chicago    IL          Chicago-Naperville-Elgin   \n",
       "61637          10023  New York    NY       New York-Newark-Jersey City   \n",
       "91982          77494      Katy    TX  Houston-The Woodlands-Sugar Land   \n",
       "84616          60614   Chicago    IL          Chicago-Naperville-Elgin   \n",
       "\n",
       "               CountyName  SizeRank  2010-09  2010-10  2010-11  2010-12  ...  \\\n",
       "RegionID                                                                 ...   \n",
       "61639     New York County         1   3031.0   3058.0   3031.0   3015.0  ...   \n",
       "84654         Cook County         2   1790.0   1787.0   1784.0   1774.0  ...   \n",
       "61637     New York County         3   3269.0   3304.0   3320.0   3322.0  ...   \n",
       "91982       Harris County         4   1547.0   1549.0   1560.0   1560.0  ...   \n",
       "84616         Cook County         5   1922.0   1925.0   1921.0   1908.0  ...   \n",
       "\n",
       "          2019-04  2019-05  2019-06  2019-07  2019-08  2019-09  2019-10  \\\n",
       "RegionID                                                                  \n",
       "61639      3785.0   3788.0   3786.0   3784.0   3766.0   3779.0   3843.0   \n",
       "84654      2039.0   2070.0   2105.0   2140.0   2168.0   2185.0   2125.0   \n",
       "61637      3874.0   3898.0   3917.0   3929.0   3931.0   3963.0      NaN   \n",
       "91982      1765.0   1755.0   1751.0   1752.0   1754.0   1759.0   1764.0   \n",
       "84616      2245.0   2289.0   2332.0   2372.0   2398.0   2412.0   2348.0   \n",
       "\n",
       "          2019-11  2019-12  2020-01  \n",
       "RegionID                             \n",
       "61639      3873.0   3835.0      NaN  \n",
       "84654         NaN   2053.0   1996.0  \n",
       "61637      4123.0   4079.0      NaN  \n",
       "91982      1769.0   1776.0   1778.0  \n",
       "84616      2356.0   2311.0      NaN  \n",
       "\n",
       "[5 rows x 119 columns]"
      ]
     },
     "execution_count": 117,
     "metadata": {},
     "output_type": "execute_result"
    }
   ],
   "source": [
    "df_rents.head()"
   ]
  },
  {
   "cell_type": "code",
   "execution_count": 118,
   "metadata": {},
   "outputs": [],
   "source": [
    "# Only need relevant price, say 2019-11-30, and RegionName (zipcode), plus Metro for checks\n",
    "df_rents.drop(df_rents.columns.difference(['RegionName','Metro', '2019-11']), 1, inplace=True)"
   ]
  },
  {
   "cell_type": "code",
   "execution_count": 119,
   "metadata": {},
   "outputs": [
    {
     "data": {
      "text/html": [
       "<div>\n",
       "<style scoped>\n",
       "    .dataframe tbody tr th:only-of-type {\n",
       "        vertical-align: middle;\n",
       "    }\n",
       "\n",
       "    .dataframe tbody tr th {\n",
       "        vertical-align: top;\n",
       "    }\n",
       "\n",
       "    .dataframe thead th {\n",
       "        text-align: right;\n",
       "    }\n",
       "</style>\n",
       "<table border=\"1\" class=\"dataframe\">\n",
       "  <thead>\n",
       "    <tr style=\"text-align: right;\">\n",
       "      <th></th>\n",
       "      <th>RegionName</th>\n",
       "      <th>Metro</th>\n",
       "      <th>2019-11</th>\n",
       "    </tr>\n",
       "    <tr>\n",
       "      <th>RegionID</th>\n",
       "      <th></th>\n",
       "      <th></th>\n",
       "      <th></th>\n",
       "    </tr>\n",
       "  </thead>\n",
       "  <tbody>\n",
       "    <tr>\n",
       "      <th>61639</th>\n",
       "      <td>10025</td>\n",
       "      <td>New York-Newark-Jersey City</td>\n",
       "      <td>3873.0</td>\n",
       "    </tr>\n",
       "    <tr>\n",
       "      <th>84654</th>\n",
       "      <td>60657</td>\n",
       "      <td>Chicago-Naperville-Elgin</td>\n",
       "      <td>NaN</td>\n",
       "    </tr>\n",
       "    <tr>\n",
       "      <th>61637</th>\n",
       "      <td>10023</td>\n",
       "      <td>New York-Newark-Jersey City</td>\n",
       "      <td>4123.0</td>\n",
       "    </tr>\n",
       "    <tr>\n",
       "      <th>91982</th>\n",
       "      <td>77494</td>\n",
       "      <td>Houston-The Woodlands-Sugar Land</td>\n",
       "      <td>1769.0</td>\n",
       "    </tr>\n",
       "    <tr>\n",
       "      <th>84616</th>\n",
       "      <td>60614</td>\n",
       "      <td>Chicago-Naperville-Elgin</td>\n",
       "      <td>2356.0</td>\n",
       "    </tr>\n",
       "  </tbody>\n",
       "</table>\n",
       "</div>"
      ],
      "text/plain": [
       "          RegionName                             Metro  2019-11\n",
       "RegionID                                                       \n",
       "61639          10025       New York-Newark-Jersey City   3873.0\n",
       "84654          60657          Chicago-Naperville-Elgin      NaN\n",
       "61637          10023       New York-Newark-Jersey City   4123.0\n",
       "91982          77494  Houston-The Woodlands-Sugar Land   1769.0\n",
       "84616          60614          Chicago-Naperville-Elgin   2356.0"
      ]
     },
     "execution_count": 119,
     "metadata": {},
     "output_type": "execute_result"
    }
   ],
   "source": [
    "df_rents.head()"
   ]
  },
  {
   "cell_type": "code",
   "execution_count": 120,
   "metadata": {},
   "outputs": [
    {
     "data": {
      "text/plain": [
       "(272, 8)"
      ]
     },
     "execution_count": 120,
     "metadata": {},
     "output_type": "execute_result"
    }
   ],
   "source": [
    "df_nyc_prices_rents = df_nyc_prices.merge(df_rents, left_on='zip', right_on='RegionName')\n",
    "df_nyc_prices_rents.shape"
   ]
  },
  {
   "cell_type": "markdown",
   "metadata": {},
   "source": [
    "More observations (rows) were lost because not all zip codes had a rental estimate"
   ]
  },
  {
   "cell_type": "code",
   "execution_count": 121,
   "metadata": {},
   "outputs": [
    {
     "data": {
      "text/html": [
       "<div>\n",
       "<style scoped>\n",
       "    .dataframe tbody tr th:only-of-type {\n",
       "        vertical-align: middle;\n",
       "    }\n",
       "\n",
       "    .dataframe tbody tr th {\n",
       "        vertical-align: top;\n",
       "    }\n",
       "\n",
       "    .dataframe thead th {\n",
       "        text-align: right;\n",
       "    }\n",
       "</style>\n",
       "<table border=\"1\" class=\"dataframe\">\n",
       "  <thead>\n",
       "    <tr style=\"text-align: right;\">\n",
       "      <th></th>\n",
       "      <th>zip</th>\n",
       "      <th>RegionName_x</th>\n",
       "      <th>Metro_x</th>\n",
       "      <th>Price</th>\n",
       "      <th>RegionName_y</th>\n",
       "      <th>Metro_y</th>\n",
       "      <th>2019-11</th>\n",
       "    </tr>\n",
       "    <tr>\n",
       "      <th>borough</th>\n",
       "      <th></th>\n",
       "      <th></th>\n",
       "      <th></th>\n",
       "      <th></th>\n",
       "      <th></th>\n",
       "      <th></th>\n",
       "      <th></th>\n",
       "    </tr>\n",
       "  </thead>\n",
       "  <tbody>\n",
       "    <tr>\n",
       "      <th>Bronx</th>\n",
       "      <td>32</td>\n",
       "      <td>32</td>\n",
       "      <td>32</td>\n",
       "      <td>32</td>\n",
       "      <td>32</td>\n",
       "      <td>32</td>\n",
       "      <td>30</td>\n",
       "    </tr>\n",
       "    <tr>\n",
       "      <th>Brooklyn</th>\n",
       "      <td>68</td>\n",
       "      <td>68</td>\n",
       "      <td>68</td>\n",
       "      <td>68</td>\n",
       "      <td>68</td>\n",
       "      <td>68</td>\n",
       "      <td>58</td>\n",
       "    </tr>\n",
       "    <tr>\n",
       "      <th>Manhattan</th>\n",
       "      <td>52</td>\n",
       "      <td>52</td>\n",
       "      <td>52</td>\n",
       "      <td>52</td>\n",
       "      <td>52</td>\n",
       "      <td>52</td>\n",
       "      <td>50</td>\n",
       "    </tr>\n",
       "    <tr>\n",
       "      <th>Queens</th>\n",
       "      <td>98</td>\n",
       "      <td>98</td>\n",
       "      <td>98</td>\n",
       "      <td>98</td>\n",
       "      <td>98</td>\n",
       "      <td>98</td>\n",
       "      <td>98</td>\n",
       "    </tr>\n",
       "    <tr>\n",
       "      <th>Staten</th>\n",
       "      <td>22</td>\n",
       "      <td>22</td>\n",
       "      <td>22</td>\n",
       "      <td>22</td>\n",
       "      <td>22</td>\n",
       "      <td>22</td>\n",
       "      <td>22</td>\n",
       "    </tr>\n",
       "  </tbody>\n",
       "</table>\n",
       "</div>"
      ],
      "text/plain": [
       "           zip  RegionName_x  Metro_x  Price  RegionName_y  Metro_y  2019-11\n",
       "borough                                                                     \n",
       "Bronx       32            32       32     32            32       32       30\n",
       "Brooklyn    68            68       68     68            68       68       58\n",
       "Manhattan   52            52       52     52            52       52       50\n",
       "Queens      98            98       98     98            98       98       98\n",
       "Staten      22            22       22     22            22       22       22"
      ]
     },
     "execution_count": 121,
     "metadata": {},
     "output_type": "execute_result"
    }
   ],
   "source": [
    "df_nyc_prices_rents.groupby('borough').count()"
   ]
  },
  {
   "cell_type": "markdown",
   "metadata": {},
   "source": [
    "Moreover, from the grouped table above, it seems that some zip codes do have a price estimate but do not have rent estimate. So, drop missing values and check the data set."
   ]
  },
  {
   "cell_type": "code",
   "execution_count": 132,
   "metadata": {},
   "outputs": [],
   "source": [
    "df_nyc_prices_rents.dropna(inplace=True)"
   ]
  },
  {
   "cell_type": "code",
   "execution_count": 133,
   "metadata": {},
   "outputs": [
    {
     "data": {
      "text/plain": [
       "False"
      ]
     },
     "execution_count": 133,
     "metadata": {},
     "output_type": "execute_result"
    }
   ],
   "source": [
    "df_nyc_prices_rents['2019-11'].isnull().values.any()"
   ]
  },
  {
   "cell_type": "code",
   "execution_count": 134,
   "metadata": {},
   "outputs": [
    {
     "data": {
      "text/plain": [
       "False"
      ]
     },
     "execution_count": 134,
     "metadata": {},
     "output_type": "execute_result"
    }
   ],
   "source": [
    "df_nyc_prices_rents['2019-11'].isna().values.any()"
   ]
  },
  {
   "cell_type": "markdown",
   "metadata": {},
   "source": [
    "Rename column 'Rent'"
   ]
  },
  {
   "cell_type": "code",
   "execution_count": 135,
   "metadata": {},
   "outputs": [],
   "source": [
    "df_nyc_prices_rents.rename(columns={'2019-11':'Rent'}, inplace=True)"
   ]
  },
  {
   "cell_type": "markdown",
   "metadata": {},
   "source": [
    "#### EDA of Sample "
   ]
  },
  {
   "cell_type": "markdown",
   "metadata": {},
   "source": [
    "Inspect the rents visually with box plots"
   ]
  },
  {
   "cell_type": "code",
   "execution_count": 164,
   "metadata": {},
   "outputs": [
    {
     "data": {
      "image/png": "[encoded data removed]",
      "text/plain": [
       "<Figure size 842.4x595.44 with 1 Axes>"
      ]
     },
     "metadata": {
      "needs_background": "light"
     },
     "output_type": "display_data"
    }
   ],
   "source": [
    "sns.scatterplot(x='Price', y='Rent', data=df_nyc_prices_rents, hue = 'borough')\n",
    "plt.gcf().set_size_inches(11.7, 8.27)\n",
    "plt.show()"
   ]
  },
  {
   "cell_type": "markdown",
   "metadata": {},
   "source": [
    "When plotting 'Rent' against 'Price\" it seems that the data is not homegeneous at all. "
   ]
  },
  {
   "cell_type": "code",
   "execution_count": 172,
   "metadata": {},
   "outputs": [
    {
     "data": {
      "image/png": "[encoded data removed]",
      "text/plain": [
       "<Figure size 1080x216 with 5 Axes>"
      ]
     },
     "metadata": {
      "needs_background": "light"
     },
     "output_type": "display_data"
    }
   ],
   "source": [
    "g1 = sns.lmplot(x='Price', y='Rent', data=df_nyc_prices_rents, ci=85,\n",
    "                col='borough', height=3, robust=False)\n",
    "g1 = g1.set_axis_labels('Price', 'Rent')\n",
    "plt.show()"
   ]
  },
  {
   "cell_type": "markdown",
   "metadata": {},
   "source": [
    "Splitting by boroughs confirms this idea. When looking at the slope of regression lines, rent/price relationship appears to be different. There are at list 3 distinct groups: 1) Manhattan, 2) Staten,  and 3) Bronx, Queens and Brooklyn."
   ]
  },
  {
   "cell_type": "markdown",
   "metadata": {},
   "source": [
    "#### *k*-means clustering "
   ]
  },
  {
   "cell_type": "code",
   "execution_count": null,
   "metadata": {},
   "outputs": [],
   "source": []
  },
  {
   "cell_type": "code",
   "execution_count": null,
   "metadata": {},
   "outputs": [],
   "source": [
    "# TODO:\n",
    "# 1) load condo prices - sort for NYC only, store data file, box plot by zip\n",
    "# 2) load condo rents  - sort and store NYC, box plot by zip\n",
    "# 3) merge data sets on zip codes, scatter plot x = condo_princes y = condo_rents\n",
    "# 4) run 3 or 4 centers clustering algorithms as shown in k-means\n",
    "# 5) group zip codes by clusters and map them using folio\n",
    "# 6) loand venues data\n",
    "# 7) count most popular by clusters\n",
    "# 8) run trees\n",
    "# 9) plot top of the tree\n",
    "# 10) check with lasso regression"
   ]
  }
 ],
 "metadata": {
  "kernelspec": {
   "display_name": "Python 3",
   "language": "python",
   "name": "python3"
  },
  "language_info": {
   "codemirror_mode": {
    "name": "ipython",
    "version": 3
   },
   "file_extension": ".py",
   "mimetype": "text/x-python",
   "name": "python",
   "nbconvert_exporter": "python",
   "pygments_lexer": "ipython3",
   "version": "3.7.3"
  }
 },
 "nbformat": 4,
 "nbformat_minor": 2
}
